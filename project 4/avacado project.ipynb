{
 "cells": [
  {
   "cell_type": "code",
   "execution_count": 1,
   "id": "8d5f62b8",
   "metadata": {},
   "outputs": [],
   "source": [
    "import numpy as np\n",
    "import pandas as pd\n",
    "import seaborn as sns"
   ]
  },
  {
   "cell_type": "code",
   "execution_count": 2,
   "id": "7ffe869e",
   "metadata": {},
   "outputs": [
    {
     "data": {
      "text/html": [
       "<div>\n",
       "<style scoped>\n",
       "    .dataframe tbody tr th:only-of-type {\n",
       "        vertical-align: middle;\n",
       "    }\n",
       "\n",
       "    .dataframe tbody tr th {\n",
       "        vertical-align: top;\n",
       "    }\n",
       "\n",
       "    .dataframe thead th {\n",
       "        text-align: right;\n",
       "    }\n",
       "</style>\n",
       "<table border=\"1\" class=\"dataframe\">\n",
       "  <thead>\n",
       "    <tr style=\"text-align: right;\">\n",
       "      <th></th>\n",
       "      <th>Unnamed: 0</th>\n",
       "      <th>Date</th>\n",
       "      <th>AveragePrice</th>\n",
       "      <th>Total Volume</th>\n",
       "      <th>4046</th>\n",
       "      <th>4225</th>\n",
       "      <th>4770</th>\n",
       "      <th>Total Bags</th>\n",
       "      <th>Small Bags</th>\n",
       "      <th>Large Bags</th>\n",
       "      <th>XLarge Bags</th>\n",
       "      <th>type</th>\n",
       "      <th>year</th>\n",
       "      <th>region</th>\n",
       "    </tr>\n",
       "  </thead>\n",
       "  <tbody>\n",
       "    <tr>\n",
       "      <th>0</th>\n",
       "      <td>0</td>\n",
       "      <td>2015-12-27</td>\n",
       "      <td>1.33</td>\n",
       "      <td>64236.62</td>\n",
       "      <td>1036.74</td>\n",
       "      <td>54454.85</td>\n",
       "      <td>48.16</td>\n",
       "      <td>8696.87</td>\n",
       "      <td>8603.62</td>\n",
       "      <td>93.25</td>\n",
       "      <td>0.0</td>\n",
       "      <td>conventional</td>\n",
       "      <td>2015</td>\n",
       "      <td>Albany</td>\n",
       "    </tr>\n",
       "    <tr>\n",
       "      <th>1</th>\n",
       "      <td>1</td>\n",
       "      <td>2015-12-20</td>\n",
       "      <td>1.35</td>\n",
       "      <td>54876.98</td>\n",
       "      <td>674.28</td>\n",
       "      <td>44638.81</td>\n",
       "      <td>58.33</td>\n",
       "      <td>9505.56</td>\n",
       "      <td>9408.07</td>\n",
       "      <td>97.49</td>\n",
       "      <td>0.0</td>\n",
       "      <td>conventional</td>\n",
       "      <td>2015</td>\n",
       "      <td>Albany</td>\n",
       "    </tr>\n",
       "    <tr>\n",
       "      <th>2</th>\n",
       "      <td>2</td>\n",
       "      <td>2015-12-13</td>\n",
       "      <td>0.93</td>\n",
       "      <td>118220.22</td>\n",
       "      <td>794.70</td>\n",
       "      <td>109149.67</td>\n",
       "      <td>130.50</td>\n",
       "      <td>8145.35</td>\n",
       "      <td>8042.21</td>\n",
       "      <td>103.14</td>\n",
       "      <td>0.0</td>\n",
       "      <td>conventional</td>\n",
       "      <td>2015</td>\n",
       "      <td>Albany</td>\n",
       "    </tr>\n",
       "    <tr>\n",
       "      <th>3</th>\n",
       "      <td>3</td>\n",
       "      <td>2015-12-06</td>\n",
       "      <td>1.08</td>\n",
       "      <td>78992.15</td>\n",
       "      <td>1132.00</td>\n",
       "      <td>71976.41</td>\n",
       "      <td>72.58</td>\n",
       "      <td>5811.16</td>\n",
       "      <td>5677.40</td>\n",
       "      <td>133.76</td>\n",
       "      <td>0.0</td>\n",
       "      <td>conventional</td>\n",
       "      <td>2015</td>\n",
       "      <td>Albany</td>\n",
       "    </tr>\n",
       "    <tr>\n",
       "      <th>4</th>\n",
       "      <td>4</td>\n",
       "      <td>2015-11-29</td>\n",
       "      <td>1.28</td>\n",
       "      <td>51039.60</td>\n",
       "      <td>941.48</td>\n",
       "      <td>43838.39</td>\n",
       "      <td>75.78</td>\n",
       "      <td>6183.95</td>\n",
       "      <td>5986.26</td>\n",
       "      <td>197.69</td>\n",
       "      <td>0.0</td>\n",
       "      <td>conventional</td>\n",
       "      <td>2015</td>\n",
       "      <td>Albany</td>\n",
       "    </tr>\n",
       "    <tr>\n",
       "      <th>...</th>\n",
       "      <td>...</td>\n",
       "      <td>...</td>\n",
       "      <td>...</td>\n",
       "      <td>...</td>\n",
       "      <td>...</td>\n",
       "      <td>...</td>\n",
       "      <td>...</td>\n",
       "      <td>...</td>\n",
       "      <td>...</td>\n",
       "      <td>...</td>\n",
       "      <td>...</td>\n",
       "      <td>...</td>\n",
       "      <td>...</td>\n",
       "      <td>...</td>\n",
       "    </tr>\n",
       "    <tr>\n",
       "      <th>18244</th>\n",
       "      <td>7</td>\n",
       "      <td>2018-02-04</td>\n",
       "      <td>1.63</td>\n",
       "      <td>17074.83</td>\n",
       "      <td>2046.96</td>\n",
       "      <td>1529.20</td>\n",
       "      <td>0.00</td>\n",
       "      <td>13498.67</td>\n",
       "      <td>13066.82</td>\n",
       "      <td>431.85</td>\n",
       "      <td>0.0</td>\n",
       "      <td>organic</td>\n",
       "      <td>2018</td>\n",
       "      <td>WestTexNewMexico</td>\n",
       "    </tr>\n",
       "    <tr>\n",
       "      <th>18245</th>\n",
       "      <td>8</td>\n",
       "      <td>2018-01-28</td>\n",
       "      <td>1.71</td>\n",
       "      <td>13888.04</td>\n",
       "      <td>1191.70</td>\n",
       "      <td>3431.50</td>\n",
       "      <td>0.00</td>\n",
       "      <td>9264.84</td>\n",
       "      <td>8940.04</td>\n",
       "      <td>324.80</td>\n",
       "      <td>0.0</td>\n",
       "      <td>organic</td>\n",
       "      <td>2018</td>\n",
       "      <td>WestTexNewMexico</td>\n",
       "    </tr>\n",
       "    <tr>\n",
       "      <th>18246</th>\n",
       "      <td>9</td>\n",
       "      <td>2018-01-21</td>\n",
       "      <td>1.87</td>\n",
       "      <td>13766.76</td>\n",
       "      <td>1191.92</td>\n",
       "      <td>2452.79</td>\n",
       "      <td>727.94</td>\n",
       "      <td>9394.11</td>\n",
       "      <td>9351.80</td>\n",
       "      <td>42.31</td>\n",
       "      <td>0.0</td>\n",
       "      <td>organic</td>\n",
       "      <td>2018</td>\n",
       "      <td>WestTexNewMexico</td>\n",
       "    </tr>\n",
       "    <tr>\n",
       "      <th>18247</th>\n",
       "      <td>10</td>\n",
       "      <td>2018-01-14</td>\n",
       "      <td>1.93</td>\n",
       "      <td>16205.22</td>\n",
       "      <td>1527.63</td>\n",
       "      <td>2981.04</td>\n",
       "      <td>727.01</td>\n",
       "      <td>10969.54</td>\n",
       "      <td>10919.54</td>\n",
       "      <td>50.00</td>\n",
       "      <td>0.0</td>\n",
       "      <td>organic</td>\n",
       "      <td>2018</td>\n",
       "      <td>WestTexNewMexico</td>\n",
       "    </tr>\n",
       "    <tr>\n",
       "      <th>18248</th>\n",
       "      <td>11</td>\n",
       "      <td>2018-01-07</td>\n",
       "      <td>1.62</td>\n",
       "      <td>17489.58</td>\n",
       "      <td>2894.77</td>\n",
       "      <td>2356.13</td>\n",
       "      <td>224.53</td>\n",
       "      <td>12014.15</td>\n",
       "      <td>11988.14</td>\n",
       "      <td>26.01</td>\n",
       "      <td>0.0</td>\n",
       "      <td>organic</td>\n",
       "      <td>2018</td>\n",
       "      <td>WestTexNewMexico</td>\n",
       "    </tr>\n",
       "  </tbody>\n",
       "</table>\n",
       "<p>18249 rows × 14 columns</p>\n",
       "</div>"
      ],
      "text/plain": [
       "       Unnamed: 0        Date  AveragePrice  Total Volume     4046       4225  \\\n",
       "0               0  2015-12-27          1.33      64236.62  1036.74   54454.85   \n",
       "1               1  2015-12-20          1.35      54876.98   674.28   44638.81   \n",
       "2               2  2015-12-13          0.93     118220.22   794.70  109149.67   \n",
       "3               3  2015-12-06          1.08      78992.15  1132.00   71976.41   \n",
       "4               4  2015-11-29          1.28      51039.60   941.48   43838.39   \n",
       "...           ...         ...           ...           ...      ...        ...   \n",
       "18244           7  2018-02-04          1.63      17074.83  2046.96    1529.20   \n",
       "18245           8  2018-01-28          1.71      13888.04  1191.70    3431.50   \n",
       "18246           9  2018-01-21          1.87      13766.76  1191.92    2452.79   \n",
       "18247          10  2018-01-14          1.93      16205.22  1527.63    2981.04   \n",
       "18248          11  2018-01-07          1.62      17489.58  2894.77    2356.13   \n",
       "\n",
       "         4770  Total Bags  Small Bags  Large Bags  XLarge Bags          type  \\\n",
       "0       48.16     8696.87     8603.62       93.25          0.0  conventional   \n",
       "1       58.33     9505.56     9408.07       97.49          0.0  conventional   \n",
       "2      130.50     8145.35     8042.21      103.14          0.0  conventional   \n",
       "3       72.58     5811.16     5677.40      133.76          0.0  conventional   \n",
       "4       75.78     6183.95     5986.26      197.69          0.0  conventional   \n",
       "...       ...         ...         ...         ...          ...           ...   \n",
       "18244    0.00    13498.67    13066.82      431.85          0.0       organic   \n",
       "18245    0.00     9264.84     8940.04      324.80          0.0       organic   \n",
       "18246  727.94     9394.11     9351.80       42.31          0.0       organic   \n",
       "18247  727.01    10969.54    10919.54       50.00          0.0       organic   \n",
       "18248  224.53    12014.15    11988.14       26.01          0.0       organic   \n",
       "\n",
       "       year            region  \n",
       "0      2015            Albany  \n",
       "1      2015            Albany  \n",
       "2      2015            Albany  \n",
       "3      2015            Albany  \n",
       "4      2015            Albany  \n",
       "...     ...               ...  \n",
       "18244  2018  WestTexNewMexico  \n",
       "18245  2018  WestTexNewMexico  \n",
       "18246  2018  WestTexNewMexico  \n",
       "18247  2018  WestTexNewMexico  \n",
       "18248  2018  WestTexNewMexico  \n",
       "\n",
       "[18249 rows x 14 columns]"
      ]
     },
     "execution_count": 2,
     "metadata": {},
     "output_type": "execute_result"
    }
   ],
   "source": [
    "df= pd.read_csv('C:/Users/MohitLewis/Downloads/avocado.csv')\n",
    "df"
   ]
  },
  {
   "cell_type": "code",
   "execution_count": 3,
   "id": "4f074edf",
   "metadata": {},
   "outputs": [
    {
     "data": {
      "text/html": [
       "<div>\n",
       "<style scoped>\n",
       "    .dataframe tbody tr th:only-of-type {\n",
       "        vertical-align: middle;\n",
       "    }\n",
       "\n",
       "    .dataframe tbody tr th {\n",
       "        vertical-align: top;\n",
       "    }\n",
       "\n",
       "    .dataframe thead th {\n",
       "        text-align: right;\n",
       "    }\n",
       "</style>\n",
       "<table border=\"1\" class=\"dataframe\">\n",
       "  <thead>\n",
       "    <tr style=\"text-align: right;\">\n",
       "      <th></th>\n",
       "      <th>Unnamed: 0</th>\n",
       "      <th>Date</th>\n",
       "      <th>AveragePrice</th>\n",
       "      <th>Total Volume</th>\n",
       "      <th>4046</th>\n",
       "      <th>4225</th>\n",
       "      <th>4770</th>\n",
       "      <th>Total Bags</th>\n",
       "      <th>Small Bags</th>\n",
       "      <th>Large Bags</th>\n",
       "      <th>XLarge Bags</th>\n",
       "      <th>type</th>\n",
       "      <th>year</th>\n",
       "      <th>region</th>\n",
       "    </tr>\n",
       "  </thead>\n",
       "  <tbody>\n",
       "    <tr>\n",
       "      <th>0</th>\n",
       "      <td>0</td>\n",
       "      <td>2015-12-27</td>\n",
       "      <td>1.33</td>\n",
       "      <td>64236.62</td>\n",
       "      <td>1036.74</td>\n",
       "      <td>54454.85</td>\n",
       "      <td>48.16</td>\n",
       "      <td>8696.87</td>\n",
       "      <td>8603.62</td>\n",
       "      <td>93.25</td>\n",
       "      <td>0.0</td>\n",
       "      <td>conventional</td>\n",
       "      <td>2015</td>\n",
       "      <td>Albany</td>\n",
       "    </tr>\n",
       "    <tr>\n",
       "      <th>1</th>\n",
       "      <td>1</td>\n",
       "      <td>2015-12-20</td>\n",
       "      <td>1.35</td>\n",
       "      <td>54876.98</td>\n",
       "      <td>674.28</td>\n",
       "      <td>44638.81</td>\n",
       "      <td>58.33</td>\n",
       "      <td>9505.56</td>\n",
       "      <td>9408.07</td>\n",
       "      <td>97.49</td>\n",
       "      <td>0.0</td>\n",
       "      <td>conventional</td>\n",
       "      <td>2015</td>\n",
       "      <td>Albany</td>\n",
       "    </tr>\n",
       "    <tr>\n",
       "      <th>2</th>\n",
       "      <td>2</td>\n",
       "      <td>2015-12-13</td>\n",
       "      <td>0.93</td>\n",
       "      <td>118220.22</td>\n",
       "      <td>794.70</td>\n",
       "      <td>109149.67</td>\n",
       "      <td>130.50</td>\n",
       "      <td>8145.35</td>\n",
       "      <td>8042.21</td>\n",
       "      <td>103.14</td>\n",
       "      <td>0.0</td>\n",
       "      <td>conventional</td>\n",
       "      <td>2015</td>\n",
       "      <td>Albany</td>\n",
       "    </tr>\n",
       "    <tr>\n",
       "      <th>3</th>\n",
       "      <td>3</td>\n",
       "      <td>2015-12-06</td>\n",
       "      <td>1.08</td>\n",
       "      <td>78992.15</td>\n",
       "      <td>1132.00</td>\n",
       "      <td>71976.41</td>\n",
       "      <td>72.58</td>\n",
       "      <td>5811.16</td>\n",
       "      <td>5677.40</td>\n",
       "      <td>133.76</td>\n",
       "      <td>0.0</td>\n",
       "      <td>conventional</td>\n",
       "      <td>2015</td>\n",
       "      <td>Albany</td>\n",
       "    </tr>\n",
       "    <tr>\n",
       "      <th>4</th>\n",
       "      <td>4</td>\n",
       "      <td>2015-11-29</td>\n",
       "      <td>1.28</td>\n",
       "      <td>51039.60</td>\n",
       "      <td>941.48</td>\n",
       "      <td>43838.39</td>\n",
       "      <td>75.78</td>\n",
       "      <td>6183.95</td>\n",
       "      <td>5986.26</td>\n",
       "      <td>197.69</td>\n",
       "      <td>0.0</td>\n",
       "      <td>conventional</td>\n",
       "      <td>2015</td>\n",
       "      <td>Albany</td>\n",
       "    </tr>\n",
       "  </tbody>\n",
       "</table>\n",
       "</div>"
      ],
      "text/plain": [
       "   Unnamed: 0        Date  AveragePrice  Total Volume     4046       4225  \\\n",
       "0           0  2015-12-27          1.33      64236.62  1036.74   54454.85   \n",
       "1           1  2015-12-20          1.35      54876.98   674.28   44638.81   \n",
       "2           2  2015-12-13          0.93     118220.22   794.70  109149.67   \n",
       "3           3  2015-12-06          1.08      78992.15  1132.00   71976.41   \n",
       "4           4  2015-11-29          1.28      51039.60   941.48   43838.39   \n",
       "\n",
       "     4770  Total Bags  Small Bags  Large Bags  XLarge Bags          type  \\\n",
       "0   48.16     8696.87     8603.62       93.25          0.0  conventional   \n",
       "1   58.33     9505.56     9408.07       97.49          0.0  conventional   \n",
       "2  130.50     8145.35     8042.21      103.14          0.0  conventional   \n",
       "3   72.58     5811.16     5677.40      133.76          0.0  conventional   \n",
       "4   75.78     6183.95     5986.26      197.69          0.0  conventional   \n",
       "\n",
       "   year  region  \n",
       "0  2015  Albany  \n",
       "1  2015  Albany  \n",
       "2  2015  Albany  \n",
       "3  2015  Albany  \n",
       "4  2015  Albany  "
      ]
     },
     "execution_count": 3,
     "metadata": {},
     "output_type": "execute_result"
    }
   ],
   "source": [
    "df.head()"
   ]
  },
  {
   "cell_type": "code",
   "execution_count": 4,
   "id": "62a1cf82",
   "metadata": {},
   "outputs": [
    {
     "data": {
      "text/plain": [
       "(18249, 14)"
      ]
     },
     "execution_count": 4,
     "metadata": {},
     "output_type": "execute_result"
    }
   ],
   "source": [
    "df.shape"
   ]
  },
  {
   "cell_type": "markdown",
   "id": "70399046",
   "metadata": {},
   "source": [
    "#So here we can see that data set have 18249 no. of rows and 14 columns ."
   ]
  },
  {
   "cell_type": "code",
   "execution_count": 5,
   "id": "1efe31d6",
   "metadata": {},
   "outputs": [
    {
     "data": {
      "text/html": [
       "<div>\n",
       "<style scoped>\n",
       "    .dataframe tbody tr th:only-of-type {\n",
       "        vertical-align: middle;\n",
       "    }\n",
       "\n",
       "    .dataframe tbody tr th {\n",
       "        vertical-align: top;\n",
       "    }\n",
       "\n",
       "    .dataframe thead th {\n",
       "        text-align: right;\n",
       "    }\n",
       "</style>\n",
       "<table border=\"1\" class=\"dataframe\">\n",
       "  <thead>\n",
       "    <tr style=\"text-align: right;\">\n",
       "      <th></th>\n",
       "      <th>Unnamed: 0</th>\n",
       "      <th>AveragePrice</th>\n",
       "      <th>Total Volume</th>\n",
       "      <th>4046</th>\n",
       "      <th>4225</th>\n",
       "      <th>4770</th>\n",
       "      <th>Total Bags</th>\n",
       "      <th>Small Bags</th>\n",
       "      <th>Large Bags</th>\n",
       "      <th>XLarge Bags</th>\n",
       "      <th>year</th>\n",
       "    </tr>\n",
       "  </thead>\n",
       "  <tbody>\n",
       "    <tr>\n",
       "      <th>count</th>\n",
       "      <td>18249.000000</td>\n",
       "      <td>18249.000000</td>\n",
       "      <td>1.824900e+04</td>\n",
       "      <td>1.824900e+04</td>\n",
       "      <td>1.824900e+04</td>\n",
       "      <td>1.824900e+04</td>\n",
       "      <td>1.824900e+04</td>\n",
       "      <td>1.824900e+04</td>\n",
       "      <td>1.824900e+04</td>\n",
       "      <td>18249.000000</td>\n",
       "      <td>18249.000000</td>\n",
       "    </tr>\n",
       "    <tr>\n",
       "      <th>mean</th>\n",
       "      <td>24.232232</td>\n",
       "      <td>1.405978</td>\n",
       "      <td>8.506440e+05</td>\n",
       "      <td>2.930084e+05</td>\n",
       "      <td>2.951546e+05</td>\n",
       "      <td>2.283974e+04</td>\n",
       "      <td>2.396392e+05</td>\n",
       "      <td>1.821947e+05</td>\n",
       "      <td>5.433809e+04</td>\n",
       "      <td>3106.426507</td>\n",
       "      <td>2016.147899</td>\n",
       "    </tr>\n",
       "    <tr>\n",
       "      <th>std</th>\n",
       "      <td>15.481045</td>\n",
       "      <td>0.402677</td>\n",
       "      <td>3.453545e+06</td>\n",
       "      <td>1.264989e+06</td>\n",
       "      <td>1.204120e+06</td>\n",
       "      <td>1.074641e+05</td>\n",
       "      <td>9.862424e+05</td>\n",
       "      <td>7.461785e+05</td>\n",
       "      <td>2.439660e+05</td>\n",
       "      <td>17692.894652</td>\n",
       "      <td>0.939938</td>\n",
       "    </tr>\n",
       "    <tr>\n",
       "      <th>min</th>\n",
       "      <td>0.000000</td>\n",
       "      <td>0.440000</td>\n",
       "      <td>8.456000e+01</td>\n",
       "      <td>0.000000e+00</td>\n",
       "      <td>0.000000e+00</td>\n",
       "      <td>0.000000e+00</td>\n",
       "      <td>0.000000e+00</td>\n",
       "      <td>0.000000e+00</td>\n",
       "      <td>0.000000e+00</td>\n",
       "      <td>0.000000</td>\n",
       "      <td>2015.000000</td>\n",
       "    </tr>\n",
       "    <tr>\n",
       "      <th>25%</th>\n",
       "      <td>10.000000</td>\n",
       "      <td>1.100000</td>\n",
       "      <td>1.083858e+04</td>\n",
       "      <td>8.540700e+02</td>\n",
       "      <td>3.008780e+03</td>\n",
       "      <td>0.000000e+00</td>\n",
       "      <td>5.088640e+03</td>\n",
       "      <td>2.849420e+03</td>\n",
       "      <td>1.274700e+02</td>\n",
       "      <td>0.000000</td>\n",
       "      <td>2015.000000</td>\n",
       "    </tr>\n",
       "    <tr>\n",
       "      <th>50%</th>\n",
       "      <td>24.000000</td>\n",
       "      <td>1.370000</td>\n",
       "      <td>1.073768e+05</td>\n",
       "      <td>8.645300e+03</td>\n",
       "      <td>2.906102e+04</td>\n",
       "      <td>1.849900e+02</td>\n",
       "      <td>3.974383e+04</td>\n",
       "      <td>2.636282e+04</td>\n",
       "      <td>2.647710e+03</td>\n",
       "      <td>0.000000</td>\n",
       "      <td>2016.000000</td>\n",
       "    </tr>\n",
       "    <tr>\n",
       "      <th>75%</th>\n",
       "      <td>38.000000</td>\n",
       "      <td>1.660000</td>\n",
       "      <td>4.329623e+05</td>\n",
       "      <td>1.110202e+05</td>\n",
       "      <td>1.502069e+05</td>\n",
       "      <td>6.243420e+03</td>\n",
       "      <td>1.107834e+05</td>\n",
       "      <td>8.333767e+04</td>\n",
       "      <td>2.202925e+04</td>\n",
       "      <td>132.500000</td>\n",
       "      <td>2017.000000</td>\n",
       "    </tr>\n",
       "    <tr>\n",
       "      <th>max</th>\n",
       "      <td>52.000000</td>\n",
       "      <td>3.250000</td>\n",
       "      <td>6.250565e+07</td>\n",
       "      <td>2.274362e+07</td>\n",
       "      <td>2.047057e+07</td>\n",
       "      <td>2.546439e+06</td>\n",
       "      <td>1.937313e+07</td>\n",
       "      <td>1.338459e+07</td>\n",
       "      <td>5.719097e+06</td>\n",
       "      <td>551693.650000</td>\n",
       "      <td>2018.000000</td>\n",
       "    </tr>\n",
       "  </tbody>\n",
       "</table>\n",
       "</div>"
      ],
      "text/plain": [
       "         Unnamed: 0  AveragePrice  Total Volume          4046          4225  \\\n",
       "count  18249.000000  18249.000000  1.824900e+04  1.824900e+04  1.824900e+04   \n",
       "mean      24.232232      1.405978  8.506440e+05  2.930084e+05  2.951546e+05   \n",
       "std       15.481045      0.402677  3.453545e+06  1.264989e+06  1.204120e+06   \n",
       "min        0.000000      0.440000  8.456000e+01  0.000000e+00  0.000000e+00   \n",
       "25%       10.000000      1.100000  1.083858e+04  8.540700e+02  3.008780e+03   \n",
       "50%       24.000000      1.370000  1.073768e+05  8.645300e+03  2.906102e+04   \n",
       "75%       38.000000      1.660000  4.329623e+05  1.110202e+05  1.502069e+05   \n",
       "max       52.000000      3.250000  6.250565e+07  2.274362e+07  2.047057e+07   \n",
       "\n",
       "               4770    Total Bags    Small Bags    Large Bags    XLarge Bags  \\\n",
       "count  1.824900e+04  1.824900e+04  1.824900e+04  1.824900e+04   18249.000000   \n",
       "mean   2.283974e+04  2.396392e+05  1.821947e+05  5.433809e+04    3106.426507   \n",
       "std    1.074641e+05  9.862424e+05  7.461785e+05  2.439660e+05   17692.894652   \n",
       "min    0.000000e+00  0.000000e+00  0.000000e+00  0.000000e+00       0.000000   \n",
       "25%    0.000000e+00  5.088640e+03  2.849420e+03  1.274700e+02       0.000000   \n",
       "50%    1.849900e+02  3.974383e+04  2.636282e+04  2.647710e+03       0.000000   \n",
       "75%    6.243420e+03  1.107834e+05  8.333767e+04  2.202925e+04     132.500000   \n",
       "max    2.546439e+06  1.937313e+07  1.338459e+07  5.719097e+06  551693.650000   \n",
       "\n",
       "               year  \n",
       "count  18249.000000  \n",
       "mean    2016.147899  \n",
       "std        0.939938  \n",
       "min     2015.000000  \n",
       "25%     2015.000000  \n",
       "50%     2016.000000  \n",
       "75%     2017.000000  \n",
       "max     2018.000000  "
      ]
     },
     "execution_count": 5,
     "metadata": {},
     "output_type": "execute_result"
    }
   ],
   "source": [
    "df.describe()"
   ]
  },
  {
   "cell_type": "code",
   "execution_count": 6,
   "id": "471e153c",
   "metadata": {},
   "outputs": [
    {
     "data": {
      "text/plain": [
       "Unnamed: 0      0\n",
       "Date            0\n",
       "AveragePrice    0\n",
       "Total Volume    0\n",
       "4046            0\n",
       "4225            0\n",
       "4770            0\n",
       "Total Bags      0\n",
       "Small Bags      0\n",
       "Large Bags      0\n",
       "XLarge Bags     0\n",
       "type            0\n",
       "year            0\n",
       "region          0\n",
       "dtype: int64"
      ]
     },
     "execution_count": 6,
     "metadata": {},
     "output_type": "execute_result"
    }
   ],
   "source": [
    "#checking for null values\n",
    "df.isnull().sum()"
   ]
  },
  {
   "cell_type": "code",
   "execution_count": 7,
   "id": "1c68bb7c",
   "metadata": {},
   "outputs": [
    {
     "name": "stdout",
     "output_type": "stream",
     "text": [
      "<class 'pandas.core.frame.DataFrame'>\n",
      "RangeIndex: 18249 entries, 0 to 18248\n",
      "Data columns (total 14 columns):\n",
      " #   Column        Non-Null Count  Dtype  \n",
      "---  ------        --------------  -----  \n",
      " 0   Unnamed: 0    18249 non-null  int64  \n",
      " 1   Date          18249 non-null  object \n",
      " 2   AveragePrice  18249 non-null  float64\n",
      " 3   Total Volume  18249 non-null  float64\n",
      " 4   4046          18249 non-null  float64\n",
      " 5   4225          18249 non-null  float64\n",
      " 6   4770          18249 non-null  float64\n",
      " 7   Total Bags    18249 non-null  float64\n",
      " 8   Small Bags    18249 non-null  float64\n",
      " 9   Large Bags    18249 non-null  float64\n",
      " 10  XLarge Bags   18249 non-null  float64\n",
      " 11  type          18249 non-null  object \n",
      " 12  year          18249 non-null  int64  \n",
      " 13  region        18249 non-null  object \n",
      "dtypes: float64(9), int64(2), object(3)\n",
      "memory usage: 1.9+ MB\n"
     ]
    }
   ],
   "source": [
    "df.info()"
   ]
  },
  {
   "cell_type": "code",
   "execution_count": 8,
   "id": "78cdcc94",
   "metadata": {},
   "outputs": [
    {
     "data": {
      "text/plain": [
       "<AxesSubplot:>"
      ]
     },
     "execution_count": 8,
     "metadata": {},
     "output_type": "execute_result"
    },
    {
     "data": {
      "image/png": "[encoded data removed]",
      "text/plain": [
       "<Figure size 432x288 with 2 Axes>"
      ]
     },
     "metadata": {
      "needs_background": "light"
     },
     "output_type": "display_data"
    }
   ],
   "source": [
    "sns.heatmap(df.isnull())"
   ]
  },
  {
   "cell_type": "code",
   "execution_count": 9,
   "id": "1d29c389",
   "metadata": {},
   "outputs": [],
   "source": [
    "df.drop(['Unnamed: 0','XLarge Bags','Small Bags','Total Bags','Large Bags'], axis=1, inplace=True)"
   ]
  },
  {
   "cell_type": "code",
   "execution_count": 10,
   "id": "12fa053e",
   "metadata": {},
   "outputs": [
    {
     "data": {
      "text/plain": [
       "(18249, 9)"
      ]
     },
     "execution_count": 10,
     "metadata": {},
     "output_type": "execute_result"
    }
   ],
   "source": [
    "df.shape"
   ]
  },
  {
   "cell_type": "code",
   "execution_count": 11,
   "id": "ee3ee63f",
   "metadata": {},
   "outputs": [],
   "source": [
    "df[['Date','Month','Year']] = df['Date'].str.split(\"-\",expand = True)"
   ]
  },
  {
   "cell_type": "code",
   "execution_count": 12,
   "id": "0feb6f67",
   "metadata": {},
   "outputs": [],
   "source": [
    "# converting objects into integer datatype\n",
    "\n",
    "df[['Date','Month','Year']] = df[['Date','Month','Year']].astype(int)"
   ]
  },
  {
   "cell_type": "code",
   "execution_count": 13,
   "id": "01aab0b3",
   "metadata": {},
   "outputs": [
    {
     "data": {
      "text/plain": [
       "4     756\n",
       "11    756\n",
       "18    755\n",
       "25    755\n",
       "1     648\n",
       "26    648\n",
       "5     648\n",
       "12    648\n",
       "3     648\n",
       "8     648\n",
       "15    648\n",
       "22    648\n",
       "24    648\n",
       "17    648\n",
       "10    648\n",
       "19    648\n",
       "7     540\n",
       "14    540\n",
       "21    540\n",
       "28    540\n",
       "27    540\n",
       "20    540\n",
       "29    540\n",
       "13    540\n",
       "6     539\n",
       "2     432\n",
       "9     432\n",
       "23    432\n",
       "30    432\n",
       "31    432\n",
       "16    432\n",
       "Name: Year, dtype: int64"
      ]
     },
     "execution_count": 13,
     "metadata": {},
     "output_type": "execute_result"
    }
   ],
   "source": [
    "df['Year'].value_counts()"
   ]
  },
  {
   "cell_type": "code",
   "execution_count": 14,
   "id": "be748b53",
   "metadata": {},
   "outputs": [
    {
     "data": {
      "text/plain": [
       "2017    5722\n",
       "2016    5616\n",
       "2015    5615\n",
       "2018    1296\n",
       "Name: year, dtype: int64"
      ]
     },
     "execution_count": 14,
     "metadata": {},
     "output_type": "execute_result"
    }
   ],
   "source": [
    "df['year'].value_counts()"
   ]
  },
  {
   "cell_type": "code",
   "execution_count": 15,
   "id": "d30464a3",
   "metadata": {},
   "outputs": [],
   "source": [
    "df.drop(['year'],axis=1, inplace=True)"
   ]
  },
  {
   "cell_type": "code",
   "execution_count": 16,
   "id": "3bfb35b4",
   "metadata": {},
   "outputs": [
    {
     "data": {
      "text/plain": [
       "2"
      ]
     },
     "execution_count": 16,
     "metadata": {},
     "output_type": "execute_result"
    }
   ],
   "source": [
    "df['type'].nunique()"
   ]
  },
  {
   "cell_type": "code",
   "execution_count": 17,
   "id": "f5269f1a",
   "metadata": {},
   "outputs": [],
   "source": [
    "df.drop(['type'],axis=1, inplace=True)"
   ]
  },
  {
   "cell_type": "code",
   "execution_count": 18,
   "id": "51ae647a",
   "metadata": {},
   "outputs": [
    {
     "data": {
      "text/plain": [
       "54"
      ]
     },
     "execution_count": 18,
     "metadata": {},
     "output_type": "execute_result"
    }
   ],
   "source": [
    "df['region'].nunique()"
   ]
  },
  {
   "cell_type": "code",
   "execution_count": 19,
   "id": "590edc50",
   "metadata": {},
   "outputs": [
    {
     "name": "stdout",
     "output_type": "stream",
     "text": [
      "<class 'pandas.core.frame.DataFrame'>\n",
      "RangeIndex: 18249 entries, 0 to 18248\n",
      "Data columns (total 9 columns):\n",
      " #   Column        Non-Null Count  Dtype  \n",
      "---  ------        --------------  -----  \n",
      " 0   Date          18249 non-null  int32  \n",
      " 1   AveragePrice  18249 non-null  float64\n",
      " 2   Total Volume  18249 non-null  float64\n",
      " 3   4046          18249 non-null  float64\n",
      " 4   4225          18249 non-null  float64\n",
      " 5   4770          18249 non-null  float64\n",
      " 6   region        18249 non-null  object \n",
      " 7   Month         18249 non-null  int32  \n",
      " 8   Year          18249 non-null  int32  \n",
      "dtypes: float64(5), int32(3), object(1)\n",
      "memory usage: 1.0+ MB\n"
     ]
    }
   ],
   "source": [
    "df.info()"
   ]
  },
  {
   "cell_type": "markdown",
   "id": "2c26323a",
   "metadata": {},
   "source": [
    "# EDA"
   ]
  },
  {
   "cell_type": "code",
   "execution_count": 20,
   "id": "f242bd35",
   "metadata": {},
   "outputs": [],
   "source": [
    "from scipy.stats import skew\n",
    "import matplotlib.pyplot as plt\n",
    "import warnings\n",
    "warnings.filterwarnings('ignore')"
   ]
  },
  {
   "cell_type": "code",
   "execution_count": 21,
   "id": "149e9b48",
   "metadata": {},
   "outputs": [
    {
     "data": {
      "text/html": [
       "<div>\n",
       "<style scoped>\n",
       "    .dataframe tbody tr th:only-of-type {\n",
       "        vertical-align: middle;\n",
       "    }\n",
       "\n",
       "    .dataframe tbody tr th {\n",
       "        vertical-align: top;\n",
       "    }\n",
       "\n",
       "    .dataframe thead th {\n",
       "        text-align: right;\n",
       "    }\n",
       "</style>\n",
       "<table border=\"1\" class=\"dataframe\">\n",
       "  <thead>\n",
       "    <tr style=\"text-align: right;\">\n",
       "      <th></th>\n",
       "      <th>Date</th>\n",
       "      <th>AveragePrice</th>\n",
       "      <th>Total Volume</th>\n",
       "      <th>4046</th>\n",
       "      <th>4225</th>\n",
       "      <th>4770</th>\n",
       "      <th>Month</th>\n",
       "      <th>Year</th>\n",
       "    </tr>\n",
       "  </thead>\n",
       "  <tbody>\n",
       "    <tr>\n",
       "      <th>Date</th>\n",
       "      <td>1.000000</td>\n",
       "      <td>0.093197</td>\n",
       "      <td>0.017193</td>\n",
       "      <td>0.003353</td>\n",
       "      <td>-0.009559</td>\n",
       "      <td>-0.036531</td>\n",
       "      <td>-0.177050</td>\n",
       "      <td>0.004475</td>\n",
       "    </tr>\n",
       "    <tr>\n",
       "      <th>AveragePrice</th>\n",
       "      <td>0.093197</td>\n",
       "      <td>1.000000</td>\n",
       "      <td>-0.192752</td>\n",
       "      <td>-0.208317</td>\n",
       "      <td>-0.172928</td>\n",
       "      <td>-0.179446</td>\n",
       "      <td>0.162409</td>\n",
       "      <td>0.027386</td>\n",
       "    </tr>\n",
       "    <tr>\n",
       "      <th>Total Volume</th>\n",
       "      <td>0.017193</td>\n",
       "      <td>-0.192752</td>\n",
       "      <td>1.000000</td>\n",
       "      <td>0.977863</td>\n",
       "      <td>0.974181</td>\n",
       "      <td>0.872202</td>\n",
       "      <td>-0.024689</td>\n",
       "      <td>-0.009747</td>\n",
       "    </tr>\n",
       "    <tr>\n",
       "      <th>4046</th>\n",
       "      <td>0.003353</td>\n",
       "      <td>-0.208317</td>\n",
       "      <td>0.977863</td>\n",
       "      <td>1.000000</td>\n",
       "      <td>0.926110</td>\n",
       "      <td>0.833389</td>\n",
       "      <td>-0.025803</td>\n",
       "      <td>-0.010159</td>\n",
       "    </tr>\n",
       "    <tr>\n",
       "      <th>4225</th>\n",
       "      <td>-0.009559</td>\n",
       "      <td>-0.172928</td>\n",
       "      <td>0.974181</td>\n",
       "      <td>0.926110</td>\n",
       "      <td>1.000000</td>\n",
       "      <td>0.887855</td>\n",
       "      <td>-0.022108</td>\n",
       "      <td>-0.012393</td>\n",
       "    </tr>\n",
       "    <tr>\n",
       "      <th>4770</th>\n",
       "      <td>-0.036531</td>\n",
       "      <td>-0.179446</td>\n",
       "      <td>0.872202</td>\n",
       "      <td>0.833389</td>\n",
       "      <td>0.887855</td>\n",
       "      <td>1.000000</td>\n",
       "      <td>-0.033424</td>\n",
       "      <td>-0.009009</td>\n",
       "    </tr>\n",
       "    <tr>\n",
       "      <th>Month</th>\n",
       "      <td>-0.177050</td>\n",
       "      <td>0.162409</td>\n",
       "      <td>-0.024689</td>\n",
       "      <td>-0.025803</td>\n",
       "      <td>-0.022108</td>\n",
       "      <td>-0.033424</td>\n",
       "      <td>1.000000</td>\n",
       "      <td>0.010621</td>\n",
       "    </tr>\n",
       "    <tr>\n",
       "      <th>Year</th>\n",
       "      <td>0.004475</td>\n",
       "      <td>0.027386</td>\n",
       "      <td>-0.009747</td>\n",
       "      <td>-0.010159</td>\n",
       "      <td>-0.012393</td>\n",
       "      <td>-0.009009</td>\n",
       "      <td>0.010621</td>\n",
       "      <td>1.000000</td>\n",
       "    </tr>\n",
       "  </tbody>\n",
       "</table>\n",
       "</div>"
      ],
      "text/plain": [
       "                  Date  AveragePrice  Total Volume      4046      4225  \\\n",
       "Date          1.000000      0.093197      0.017193  0.003353 -0.009559   \n",
       "AveragePrice  0.093197      1.000000     -0.192752 -0.208317 -0.172928   \n",
       "Total Volume  0.017193     -0.192752      1.000000  0.977863  0.974181   \n",
       "4046          0.003353     -0.208317      0.977863  1.000000  0.926110   \n",
       "4225         -0.009559     -0.172928      0.974181  0.926110  1.000000   \n",
       "4770         -0.036531     -0.179446      0.872202  0.833389  0.887855   \n",
       "Month        -0.177050      0.162409     -0.024689 -0.025803 -0.022108   \n",
       "Year          0.004475      0.027386     -0.009747 -0.010159 -0.012393   \n",
       "\n",
       "                  4770     Month      Year  \n",
       "Date         -0.036531 -0.177050  0.004475  \n",
       "AveragePrice -0.179446  0.162409  0.027386  \n",
       "Total Volume  0.872202 -0.024689 -0.009747  \n",
       "4046          0.833389 -0.025803 -0.010159  \n",
       "4225          0.887855 -0.022108 -0.012393  \n",
       "4770          1.000000 -0.033424 -0.009009  \n",
       "Month        -0.033424  1.000000  0.010621  \n",
       "Year         -0.009009  0.010621  1.000000  "
      ]
     },
     "execution_count": 21,
     "metadata": {},
     "output_type": "execute_result"
    }
   ],
   "source": [
    "df.corr()"
   ]
  },
  {
   "cell_type": "code",
   "execution_count": 22,
   "id": "77dfca32",
   "metadata": {},
   "outputs": [
    {
     "data": {
      "text/plain": [
       "<AxesSubplot:>"
      ]
     },
     "execution_count": 22,
     "metadata": {},
     "output_type": "execute_result"
    },
    {
     "data": {
      "image/png": "[encoded data removed]",
      "text/plain": [
       "<Figure size 1440x504 with 2 Axes>"
      ]
     },
     "metadata": {
      "needs_background": "light"
     },
     "output_type": "display_data"
    }
   ],
   "source": [
    "plt.figure(figsize=(20,7))\n",
    "sns.heatmap(df.corr(),annot=True,linewidths=1,linecolor='white',cmap='magma')"
   ]
  },
  {
   "cell_type": "code",
   "execution_count": 23,
   "id": "12be70a0",
   "metadata": {},
   "outputs": [
    {
     "data": {
      "text/plain": [
       "<AxesSubplot:xlabel='Date', ylabel='Count'>"
      ]
     },
     "execution_count": 23,
     "metadata": {},
     "output_type": "execute_result"
    },
    {
     "data": {
      "image/png": "[encoded data removed]",
      "text/plain": [
       "<Figure size 720x360 with 1 Axes>"
      ]
     },
     "metadata": {
      "needs_background": "light"
     },
     "output_type": "display_data"
    }
   ],
   "source": [
    "plt.figure(figsize=(10,5))\n",
    "sns.histplot(df['Date'], bins=30)"
   ]
  },
  {
   "cell_type": "code",
   "execution_count": 24,
   "id": "5e040b62",
   "metadata": {},
   "outputs": [
    {
     "data": {
      "image/png": "[encoded data removed]",
      "text/plain": [
       "<Figure size 720x360 with 1 Axes>"
      ]
     },
     "metadata": {
      "needs_background": "light"
     },
     "output_type": "display_data"
    }
   ],
   "source": [
    "plt.figure(figsize=(10,5))\n",
    "plt.scatter(df['AveragePrice'],df['Total Volume'],c='black')\n",
    "plt.xlabel('The average price of a single avacado')\n",
    "plt.ylabel('Total number of avacado sold')\n",
    "plt.show()"
   ]
  },
  {
   "cell_type": "code",
   "execution_count": 25,
   "id": "a8b2fc91",
   "metadata": {},
   "outputs": [
    {
     "data": {
      "image/png": "[encoded data removed]",
      "text/plain": [
       "<Figure size 720x360 with 1 Axes>"
      ]
     },
     "metadata": {
      "needs_background": "light"
     },
     "output_type": "display_data"
    }
   ],
   "source": [
    "plt.figure(figsize=(10,5))\n",
    "plt.scatter(df['AveragePrice'],df['4225'],c='blue')\n",
    "plt.xlabel('The average price of a single avacado')\n",
    "plt.ylabel('Total number of avacado with PLU 4225 sold')\n",
    "plt.show()"
   ]
  },
  {
   "cell_type": "code",
   "execution_count": 26,
   "id": "066c65a3",
   "metadata": {},
   "outputs": [
    {
     "data": {
      "image/png": "[encoded data removed]",
      "text/plain": [
       "<Figure size 720x360 with 1 Axes>"
      ]
     },
     "metadata": {
      "needs_background": "light"
     },
     "output_type": "display_data"
    }
   ],
   "source": [
    "plt.figure(figsize=(10,5))\n",
    "plt.scatter(df['AveragePrice'],df['4046'],c='green')\n",
    "plt.xlabel('The average price of a single avacado')\n",
    "plt.ylabel('Total number of avacado with PLU 4046 sold')\n",
    "plt.show()"
   ]
  },
  {
   "cell_type": "code",
   "execution_count": 27,
   "id": "ad8f86a1",
   "metadata": {},
   "outputs": [
    {
     "data": {
      "image/png": "[encoded data removed]",
      "text/plain": [
       "<Figure size 720x360 with 1 Axes>"
      ]
     },
     "metadata": {
      "needs_background": "light"
     },
     "output_type": "display_data"
    }
   ],
   "source": [
    "plt.figure(figsize=(10,5))\n",
    "plt.scatter(df['AveragePrice'],df['4770'],c='Red')\n",
    "plt.xlabel('The average price of a single avacado')\n",
    "plt.ylabel('Total number of avacado with PLU 4770 sold')\n",
    "plt.show()"
   ]
  },
  {
   "cell_type": "code",
   "execution_count": 28,
   "id": "59212796",
   "metadata": {},
   "outputs": [
    {
     "data": {
      "text/plain": [
       "<AxesSubplot:xlabel='Year', ylabel='count'>"
      ]
     },
     "execution_count": 28,
     "metadata": {},
     "output_type": "execute_result"
    },
    {
     "data": {
      "image/png": "[encoded data removed]",
      "text/plain": [
       "<Figure size 432x288 with 1 Axes>"
      ]
     },
     "metadata": {
      "needs_background": "light"
     },
     "output_type": "display_data"
    }
   ],
   "source": [
    "sns.countplot(x='Year',data=df)"
   ]
  },
  {
   "cell_type": "code",
   "execution_count": 29,
   "id": "8402b5c3",
   "metadata": {},
   "outputs": [
    {
     "data": {
      "text/plain": [
       "<AxesSubplot:xlabel='Month', ylabel='count'>"
      ]
     },
     "execution_count": 29,
     "metadata": {},
     "output_type": "execute_result"
    },
    {
     "data": {
      "image/png": "[encoded data removed]",
      "text/plain": [
       "<Figure size 432x288 with 1 Axes>"
      ]
     },
     "metadata": {
      "needs_background": "light"
     },
     "output_type": "display_data"
    }
   ],
   "source": [
    "sns.countplot(x='Month',data=df)"
   ]
  },
  {
   "cell_type": "markdown",
   "id": "47d3f58f",
   "metadata": {},
   "source": [
    "# using LabelEncoder for converting categorical to numerical"
   ]
  },
  {
   "cell_type": "code",
   "execution_count": 30,
   "id": "fe0891c4",
   "metadata": {},
   "outputs": [
    {
     "name": "stdout",
     "output_type": "stream",
     "text": [
      "<class 'pandas.core.frame.DataFrame'>\n",
      "RangeIndex: 18249 entries, 0 to 18248\n",
      "Data columns (total 9 columns):\n",
      " #   Column        Non-Null Count  Dtype  \n",
      "---  ------        --------------  -----  \n",
      " 0   Date          18249 non-null  int32  \n",
      " 1   AveragePrice  18249 non-null  float64\n",
      " 2   Total Volume  18249 non-null  float64\n",
      " 3   4046          18249 non-null  float64\n",
      " 4   4225          18249 non-null  float64\n",
      " 5   4770          18249 non-null  float64\n",
      " 6   region        18249 non-null  object \n",
      " 7   Month         18249 non-null  int32  \n",
      " 8   Year          18249 non-null  int32  \n",
      "dtypes: float64(5), int32(3), object(1)\n",
      "memory usage: 1.0+ MB\n"
     ]
    }
   ],
   "source": [
    "df.info()"
   ]
  },
  {
   "cell_type": "code",
   "execution_count": 31,
   "id": "2c6b2a2e",
   "metadata": {},
   "outputs": [],
   "source": [
    "from sklearn import preprocessing \n",
    "le = preprocessing.LabelEncoder()\n",
    "df['region']=le.fit_transform(df['region'])"
   ]
  },
  {
   "cell_type": "markdown",
   "id": "f7d00ba6",
   "metadata": {},
   "source": [
    "# Skewness handling"
   ]
  },
  {
   "cell_type": "code",
   "execution_count": 32,
   "id": "fb8cca40",
   "metadata": {},
   "outputs": [
    {
     "data": {
      "image/png": "[encoded data removed]",
      "text/plain": [
       "<Figure size 1800x1440 with 9 Axes>"
      ]
     },
     "metadata": {
      "needs_background": "light"
     },
     "output_type": "display_data"
    }
   ],
   "source": [
    "plt.figure(figsize=(25,20))\n",
    "for i in enumerate(df.columns):\n",
    "    plt.subplot(5,3,i[0]+1)\n",
    "    sns.distplot(df[i[1]],color='g')"
   ]
  },
  {
   "cell_type": "code",
   "execution_count": 33,
   "id": "08c9aa80",
   "metadata": {},
   "outputs": [
    {
     "data": {
      "text/plain": [
       "Date             0.215339\n",
       "AveragePrice     0.580303\n",
       "Total Volume     9.007687\n",
       "4046             8.648220\n",
       "4225             8.942466\n",
       "4770            10.159396\n",
       "region           0.000030\n",
       "Month            0.106617\n",
       "Year             0.014310\n",
       "dtype: float64"
      ]
     },
     "execution_count": 33,
     "metadata": {},
     "output_type": "execute_result"
    }
   ],
   "source": [
    "df.skew()"
   ]
  },
  {
   "cell_type": "code",
   "execution_count": 34,
   "id": "3a0787d6",
   "metadata": {},
   "outputs": [],
   "source": [
    "from sklearn.preprocessing import power_transform\n",
    "\n",
    "df[['Total Volume','4046','4225','4770']]=power_transform(df[['Total Volume','4046','4225','4770']],method='yeo-johnson')"
   ]
  },
  {
   "cell_type": "code",
   "execution_count": 35,
   "id": "f12f1256",
   "metadata": {},
   "outputs": [
    {
     "data": {
      "text/plain": [
       "Date            0.215339\n",
       "AveragePrice    0.580303\n",
       "Total Volume    0.011171\n",
       "4046           -0.022679\n",
       "4225           -0.017740\n",
       "4770            0.032184\n",
       "region          0.000030\n",
       "Month           0.106617\n",
       "Year            0.014310\n",
       "dtype: float64"
      ]
     },
     "execution_count": 35,
     "metadata": {},
     "output_type": "execute_result"
    }
   ],
   "source": [
    "df.skew()"
   ]
  },
  {
   "cell_type": "markdown",
   "id": "f9e27515",
   "metadata": {},
   "source": [
    "# OUtliers handling"
   ]
  },
  {
   "cell_type": "code",
   "execution_count": 36,
   "id": "9c27259c",
   "metadata": {},
   "outputs": [
    {
     "data": {
      "image/png": "[encoded data removed]",
      "text/plain": [
       "<Figure size 1296x720 with 9 Axes>"
      ]
     },
     "metadata": {
      "needs_background": "light"
     },
     "output_type": "display_data"
    }
   ],
   "source": [
    "plt.figure(figsize=(18,10))\n",
    "for i in enumerate(df):\n",
    "    plt.subplot(3,5,i[0]+1)\n",
    "    sns.boxplot(df[i[1]])"
   ]
  },
  {
   "cell_type": "markdown",
   "id": "4740c97a",
   "metadata": {},
   "source": [
    "# ZSCORE METHOD"
   ]
  },
  {
   "cell_type": "code",
   "execution_count": 37,
   "id": "9e81ec17",
   "metadata": {},
   "outputs": [
    {
     "name": "stdout",
     "output_type": "stream",
     "text": [
      "(array([ 2699,  5506,  8366,  9097, 10381, 11320, 11321, 11323, 11324,\n",
      "       11325, 11326, 11327, 11328, 11329, 11330, 11331, 11332, 12821,\n",
      "       12823, 13033, 13035, 13037, 13038, 13395, 13657, 13661, 14019,\n",
      "       14020, 14073, 14074, 14119, 14120, 14121, 14122, 14123, 14124,\n",
      "       14125, 14126, 14128, 14129, 14177, 14385, 14699, 14701, 14702,\n",
      "       14807, 14911, 14912, 14913, 14914, 14915, 14916, 14917, 14918,\n",
      "       14919, 15124, 15125, 15127, 15128, 15129, 15130, 15510, 15511,\n",
      "       15667, 15668, 15671, 15673, 15674, 15814, 15871, 16024, 16050,\n",
      "       16055, 16395, 16399, 16421, 16660, 16661, 16662, 16663, 16664,\n",
      "       16665, 16666, 16667, 16714, 16715, 16717, 16718, 16719, 16720,\n",
      "       16721, 16734, 16737, 16738, 16985, 16986, 16994, 16995, 16996,\n",
      "       16997, 16998, 16999, 17000, 17007, 17008, 17009, 17010, 17015,\n",
      "       17017, 17031, 17032, 17033, 17034, 17035, 17036, 17037, 17038,\n",
      "       17039, 17040, 17047, 17244, 17245, 17246, 17247, 17248, 17249,\n",
      "       17250, 17251, 17255, 17300, 17301, 17302, 17303, 17304, 17402,\n",
      "       17428], dtype=int64), array([4, 4, 4, 4, 2, 1, 1, 1, 1, 1, 1, 1, 1, 1, 1, 1, 1, 1, 1, 1, 1, 1,\n",
      "       1, 1, 1, 1, 1, 1, 1, 1, 1, 1, 1, 1, 1, 1, 1, 1, 1, 1, 1, 1, 1, 1,\n",
      "       1, 1, 1, 1, 1, 1, 1, 1, 1, 1, 1, 1, 1, 1, 1, 1, 1, 1, 1, 1, 1, 1,\n",
      "       1, 1, 1, 1, 1, 1, 1, 1, 1, 1, 1, 1, 1, 1, 1, 1, 1, 1, 1, 1, 1, 1,\n",
      "       1, 1, 1, 1, 1, 1, 1, 1, 1, 1, 1, 1, 1, 1, 1, 1, 1, 1, 1, 1, 1, 1,\n",
      "       1, 1, 1, 1, 1, 1, 1, 1, 1, 1, 1, 1, 1, 1, 1, 1, 1, 1, 1, 1, 1, 1,\n",
      "       1, 1, 1, 1], dtype=int64))\n"
     ]
    }
   ],
   "source": [
    "from scipy.stats import zscore\n",
    "\n",
    "z = np.abs(zscore(df))\n",
    "print(np.where(z>3))"
   ]
  },
  {
   "cell_type": "code",
   "execution_count": 38,
   "id": "d088219c",
   "metadata": {},
   "outputs": [
    {
     "name": "stdout",
     "output_type": "stream",
     "text": [
      "with outliers:: (18249, 9)\n",
      "After removing outliers:: (18113, 9)\n"
     ]
    }
   ],
   "source": [
    "df_1 = df[(z<3).all(axis=1)]\n",
    "print(\"with outliers::\",df.shape)\n",
    "print(\"After removing outliers::\",df_1.shape)"
   ]
  },
  {
   "cell_type": "markdown",
   "id": "cadcb363",
   "metadata": {},
   "source": [
    "# IQR METHOD"
   ]
  },
  {
   "cell_type": "code",
   "execution_count": 39,
   "id": "e4d0380c",
   "metadata": {},
   "outputs": [
    {
     "data": {
      "text/plain": [
       "14.757706139040808"
      ]
     },
     "execution_count": 39,
     "metadata": {},
     "output_type": "execute_result"
    }
   ],
   "source": [
    "from scipy import stats\n",
    "\n",
    "IQR = stats.iqr(df)\n",
    "IQR"
   ]
  },
  {
   "cell_type": "code",
   "execution_count": 40,
   "id": "a6b6e720",
   "metadata": {},
   "outputs": [
    {
     "name": "stdout",
     "output_type": "stream",
     "text": [
      "(15210, 9)\n"
     ]
    }
   ],
   "source": [
    "Q1 = df.quantile()\n",
    "Q3 = df.quantile()\n",
    "df_out = df[~((df < (Q1 - 1.5 * IQR)) |(df > (Q3 + 1.5 * IQR))).any(axis=1)]\n",
    "print(df_out.shape)"
   ]
  },
  {
   "cell_type": "code",
   "execution_count": 41,
   "id": "1f351370",
   "metadata": {},
   "outputs": [],
   "source": [
    "df = df_out"
   ]
  },
  {
   "cell_type": "markdown",
   "id": "5de7ab3f",
   "metadata": {},
   "source": [
    "# Dividing Data into X and Y"
   ]
  },
  {
   "cell_type": "code",
   "execution_count": 42,
   "id": "aa046409",
   "metadata": {},
   "outputs": [],
   "source": [
    "x = df.drop(['AveragePrice'],axis=1)\n",
    "y = df['AveragePrice']"
   ]
  },
  {
   "cell_type": "code",
   "execution_count": 43,
   "id": "cf4096a2",
   "metadata": {},
   "outputs": [
    {
     "data": {
      "text/plain": [
       "(15210, 8)"
      ]
     },
     "execution_count": 43,
     "metadata": {},
     "output_type": "execute_result"
    }
   ],
   "source": [
    "x.shape"
   ]
  },
  {
   "cell_type": "code",
   "execution_count": 44,
   "id": "79cd8f4c",
   "metadata": {},
   "outputs": [
    {
     "data": {
      "text/plain": [
       "(15210,)"
      ]
     },
     "execution_count": 44,
     "metadata": {},
     "output_type": "execute_result"
    }
   ],
   "source": [
    "y.shape"
   ]
  },
  {
   "cell_type": "markdown",
   "id": "28a5ac26",
   "metadata": {},
   "source": [
    "# Scaling X values"
   ]
  },
  {
   "cell_type": "code",
   "execution_count": 45,
   "id": "f9825851",
   "metadata": {},
   "outputs": [],
   "source": [
    "from sklearn.preprocessing import MinMaxScaler\n",
    "\n",
    "sc=MinMaxScaler()\n",
    "x=sc.fit_transform(x)"
   ]
  },
  {
   "cell_type": "code",
   "execution_count": 46,
   "id": "60a0cd93",
   "metadata": {},
   "outputs": [
    {
     "data": {
      "text/plain": [
       "0    0\n",
       "1    0\n",
       "2    0\n",
       "3    0\n",
       "4    0\n",
       "5    0\n",
       "6    0\n",
       "7    0\n",
       "dtype: int64"
      ]
     },
     "execution_count": 46,
     "metadata": {},
     "output_type": "execute_result"
    }
   ],
   "source": [
    "pd.DataFrame(x).isnull().sum()"
   ]
  },
  {
   "cell_type": "code",
   "execution_count": 47,
   "id": "c9e4c235",
   "metadata": {},
   "outputs": [
    {
     "data": {
      "text/html": [
       "<div>\n",
       "<style scoped>\n",
       "    .dataframe tbody tr th:only-of-type {\n",
       "        vertical-align: middle;\n",
       "    }\n",
       "\n",
       "    .dataframe tbody tr th {\n",
       "        vertical-align: top;\n",
       "    }\n",
       "\n",
       "    .dataframe thead th {\n",
       "        text-align: right;\n",
       "    }\n",
       "</style>\n",
       "<table border=\"1\" class=\"dataframe\">\n",
       "  <thead>\n",
       "    <tr style=\"text-align: right;\">\n",
       "      <th></th>\n",
       "      <th>0</th>\n",
       "      <th>1</th>\n",
       "      <th>2</th>\n",
       "      <th>3</th>\n",
       "      <th>4</th>\n",
       "      <th>5</th>\n",
       "      <th>6</th>\n",
       "      <th>7</th>\n",
       "    </tr>\n",
       "  </thead>\n",
       "  <tbody>\n",
       "    <tr>\n",
       "      <th>count</th>\n",
       "      <td>15210.000000</td>\n",
       "      <td>15210.000000</td>\n",
       "      <td>15210.000000</td>\n",
       "      <td>15210.000000</td>\n",
       "      <td>15210.000000</td>\n",
       "      <td>15210.000000</td>\n",
       "      <td>15210.000000</td>\n",
       "      <td>15210.000000</td>\n",
       "    </tr>\n",
       "    <tr>\n",
       "      <th>mean</th>\n",
       "      <td>0.382643</td>\n",
       "      <td>0.603531</td>\n",
       "      <td>0.518980</td>\n",
       "      <td>0.536515</td>\n",
       "      <td>0.386583</td>\n",
       "      <td>0.500000</td>\n",
       "      <td>0.470683</td>\n",
       "      <td>0.488757</td>\n",
       "    </tr>\n",
       "    <tr>\n",
       "      <th>std</th>\n",
       "      <td>0.313316</td>\n",
       "      <td>0.181646</td>\n",
       "      <td>0.210127</td>\n",
       "      <td>0.188724</td>\n",
       "      <td>0.310788</td>\n",
       "      <td>0.295173</td>\n",
       "      <td>0.321284</td>\n",
       "      <td>0.292540</td>\n",
       "    </tr>\n",
       "    <tr>\n",
       "      <th>min</th>\n",
       "      <td>0.000000</td>\n",
       "      <td>0.000000</td>\n",
       "      <td>0.000000</td>\n",
       "      <td>0.000000</td>\n",
       "      <td>0.000000</td>\n",
       "      <td>0.000000</td>\n",
       "      <td>0.000000</td>\n",
       "      <td>0.000000</td>\n",
       "    </tr>\n",
       "    <tr>\n",
       "      <th>25%</th>\n",
       "      <td>0.000000</td>\n",
       "      <td>0.439388</td>\n",
       "      <td>0.363927</td>\n",
       "      <td>0.399874</td>\n",
       "      <td>0.000000</td>\n",
       "      <td>0.250000</td>\n",
       "      <td>0.181818</td>\n",
       "      <td>0.233333</td>\n",
       "    </tr>\n",
       "    <tr>\n",
       "      <th>50%</th>\n",
       "      <td>0.333333</td>\n",
       "      <td>0.634895</td>\n",
       "      <td>0.510331</td>\n",
       "      <td>0.548129</td>\n",
       "      <td>0.420619</td>\n",
       "      <td>0.500000</td>\n",
       "      <td>0.454545</td>\n",
       "      <td>0.500000</td>\n",
       "    </tr>\n",
       "    <tr>\n",
       "      <th>75%</th>\n",
       "      <td>0.666667</td>\n",
       "      <td>0.737031</td>\n",
       "      <td>0.684834</td>\n",
       "      <td>0.677545</td>\n",
       "      <td>0.668390</td>\n",
       "      <td>0.750000</td>\n",
       "      <td>0.727273</td>\n",
       "      <td>0.733333</td>\n",
       "    </tr>\n",
       "    <tr>\n",
       "      <th>max</th>\n",
       "      <td>1.000000</td>\n",
       "      <td>1.000000</td>\n",
       "      <td>1.000000</td>\n",
       "      <td>1.000000</td>\n",
       "      <td>1.000000</td>\n",
       "      <td>1.000000</td>\n",
       "      <td>1.000000</td>\n",
       "      <td>1.000000</td>\n",
       "    </tr>\n",
       "  </tbody>\n",
       "</table>\n",
       "</div>"
      ],
      "text/plain": [
       "                  0             1             2             3             4  \\\n",
       "count  15210.000000  15210.000000  15210.000000  15210.000000  15210.000000   \n",
       "mean       0.382643      0.603531      0.518980      0.536515      0.386583   \n",
       "std        0.313316      0.181646      0.210127      0.188724      0.310788   \n",
       "min        0.000000      0.000000      0.000000      0.000000      0.000000   \n",
       "25%        0.000000      0.439388      0.363927      0.399874      0.000000   \n",
       "50%        0.333333      0.634895      0.510331      0.548129      0.420619   \n",
       "75%        0.666667      0.737031      0.684834      0.677545      0.668390   \n",
       "max        1.000000      1.000000      1.000000      1.000000      1.000000   \n",
       "\n",
       "                  5             6             7  \n",
       "count  15210.000000  15210.000000  15210.000000  \n",
       "mean       0.500000      0.470683      0.488757  \n",
       "std        0.295173      0.321284      0.292540  \n",
       "min        0.000000      0.000000      0.000000  \n",
       "25%        0.250000      0.181818      0.233333  \n",
       "50%        0.500000      0.454545      0.500000  \n",
       "75%        0.750000      0.727273      0.733333  \n",
       "max        1.000000      1.000000      1.000000  "
      ]
     },
     "execution_count": 47,
     "metadata": {},
     "output_type": "execute_result"
    }
   ],
   "source": [
    "pd.DataFrame(x).describe()"
   ]
  },
  {
   "cell_type": "markdown",
   "id": "c4058c03",
   "metadata": {},
   "source": [
    "# Splitting the Data for Training and Testing"
   ]
  },
  {
   "cell_type": "code",
   "execution_count": 48,
   "id": "36c6a8c9",
   "metadata": {},
   "outputs": [],
   "source": [
    "from sklearn.metrics import mean_squared_error,mean_absolute_error\n",
    "from sklearn.metrics import r2_score\n",
    "from sklearn.model_selection import train_test_split\n",
    "from sklearn.model_selection import cross_val_score"
   ]
  },
  {
   "cell_type": "markdown",
   "id": "5d8b5c40",
   "metadata": {},
   "source": [
    "# Let's find the best random state in below cell"
   ]
  },
  {
   "cell_type": "code",
   "execution_count": 49,
   "id": "6b98844a",
   "metadata": {},
   "outputs": [
    {
     "name": "stdout",
     "output_type": "stream",
     "text": [
      "At random state 0, The training accuracy is :-0.4682184292044963\n",
      "At random state 0, The test accuracy is :-0.43563994526411554\n",
      "\n",
      "\n",
      "At random state 1, The training accuracy is :-0.4576484281460236\n",
      "At random state 1, The test accuracy is :-0.4739409076208899\n",
      "\n",
      "\n",
      "At random state 2, The training accuracy is :-0.46007490810143026\n",
      "At random state 2, The test accuracy is :-0.46543433966358305\n",
      "\n",
      "\n",
      "At random state 3, The training accuracy is :-0.4602178150891829\n",
      "At random state 3, The test accuracy is :-0.46497449677214364\n",
      "\n",
      "\n",
      "At random state 4, The training accuracy is :-0.4624039427187979\n",
      "At random state 4, The test accuracy is :-0.4572543140625335\n",
      "\n",
      "\n",
      "At random state 5, The training accuracy is :-0.4606318571735365\n",
      "At random state 5, The test accuracy is :-0.4637259630565854\n",
      "\n",
      "\n",
      "At random state 6, The training accuracy is :-0.4581537147069392\n",
      "At random state 6, The test accuracy is :-0.47226894992503743\n",
      "\n",
      "\n",
      "At random state 7, The training accuracy is :-0.4638379293520354\n",
      "At random state 7, The test accuracy is :-0.4517813700157777\n",
      "\n",
      "\n",
      "At random state 8, The training accuracy is :-0.4637443816036978\n",
      "At random state 8, The test accuracy is :-0.45288593846337455\n",
      "\n",
      "\n",
      "At random state 9, The training accuracy is :-0.4598142303219477\n",
      "At random state 9, The test accuracy is :-0.46555358289408566\n",
      "\n",
      "\n",
      "At random state 10, The training accuracy is :-0.4642805570308438\n",
      "At random state 10, The test accuracy is :-0.45089908561310243\n",
      "\n",
      "\n",
      "At random state 11, The training accuracy is :-0.4581576800601791\n",
      "At random state 11, The test accuracy is :-0.47192426030109647\n",
      "\n",
      "\n",
      "At random state 12, The training accuracy is :-0.4644290018882764\n",
      "At random state 12, The test accuracy is :-0.45060434392496773\n",
      "\n",
      "\n",
      "At random state 13, The training accuracy is :-0.46622973925324374\n",
      "At random state 13, The test accuracy is :-0.4430256880249961\n",
      "\n",
      "\n",
      "At random state 14, The training accuracy is :-0.46194554776633123\n",
      "At random state 14, The test accuracy is :-0.45839486600721646\n",
      "\n",
      "\n",
      "At random state 15, The training accuracy is :-0.4599308768752449\n",
      "At random state 15, The test accuracy is :-0.4660102634306018\n",
      "\n",
      "\n",
      "At random state 16, The training accuracy is :-0.4607759587100453\n",
      "At random state 16, The test accuracy is :-0.46317946103305374\n",
      "\n",
      "\n",
      "At random state 17, The training accuracy is :-0.46194030666855834\n",
      "At random state 17, The test accuracy is :-0.45792343999981755\n",
      "\n",
      "\n",
      "At random state 18, The training accuracy is :-0.457916189284302\n",
      "At random state 18, The test accuracy is :-0.47344937257024355\n",
      "\n",
      "\n",
      "At random state 19, The training accuracy is :-0.46158771775371354\n",
      "At random state 19, The test accuracy is :-0.46032021697586367\n",
      "\n",
      "\n",
      "At random state 20, The training accuracy is :-0.461052982156114\n",
      "At random state 20, The test accuracy is :-0.4618434650161305\n",
      "\n",
      "\n",
      "At random state 21, The training accuracy is :-0.46110799241146416\n",
      "At random state 21, The test accuracy is :-0.462183447546918\n",
      "\n",
      "\n",
      "At random state 22, The training accuracy is :-0.46047385447829503\n",
      "At random state 22, The test accuracy is :-0.4642621863086174\n",
      "\n",
      "\n",
      "At random state 23, The training accuracy is :-0.4583601158514288\n",
      "At random state 23, The test accuracy is :-0.4719307304574465\n",
      "\n",
      "\n",
      "At random state 24, The training accuracy is :-0.4607041211288372\n",
      "At random state 24, The test accuracy is :-0.4630860391166576\n",
      "\n",
      "\n",
      "At random state 25, The training accuracy is :-0.462968845357304\n",
      "At random state 25, The test accuracy is :-0.4547811656188865\n",
      "\n",
      "\n",
      "At random state 26, The training accuracy is :-0.4608850425958527\n",
      "At random state 26, The test accuracy is :-0.462483413878496\n",
      "\n",
      "\n",
      "At random state 27, The training accuracy is :-0.4606400609609522\n",
      "At random state 27, The test accuracy is :-0.46370055673709953\n",
      "\n",
      "\n",
      "At random state 28, The training accuracy is :-0.4587681899822822\n",
      "At random state 28, The test accuracy is :-0.4705224086344054\n",
      "\n",
      "\n",
      "At random state 29, The training accuracy is :-0.462181502844609\n",
      "At random state 29, The test accuracy is :-0.45799942353386636\n",
      "\n",
      "\n",
      "At random state 30, The training accuracy is :-0.4617680404779607\n",
      "At random state 30, The test accuracy is :-0.45955136026154164\n",
      "\n",
      "\n",
      "At random state 31, The training accuracy is :-0.46485295954443595\n",
      "At random state 31, The test accuracy is :-0.4484821095408221\n",
      "\n",
      "\n",
      "At random state 32, The training accuracy is :-0.4617910928487011\n",
      "At random state 32, The test accuracy is :-0.4596418627287815\n",
      "\n",
      "\n",
      "At random state 33, The training accuracy is :-0.45772631903518646\n",
      "At random state 33, The test accuracy is :-0.47404440710750284\n",
      "\n",
      "\n",
      "At random state 34, The training accuracy is :-0.4619852309352509\n",
      "At random state 34, The test accuracy is :-0.4587886815436999\n",
      "\n",
      "\n",
      "At random state 35, The training accuracy is :-0.46505875101829475\n",
      "At random state 35, The test accuracy is :-0.44730565818393875\n",
      "\n",
      "\n",
      "At random state 36, The training accuracy is :-0.464234156454455\n",
      "At random state 36, The test accuracy is :-0.45043981960373936\n",
      "\n",
      "\n",
      "At random state 37, The training accuracy is :-0.4559707957921352\n",
      "At random state 37, The test accuracy is :-0.479085152397304\n",
      "\n",
      "\n",
      "At random state 38, The training accuracy is :-0.4595881630177231\n",
      "At random state 38, The test accuracy is :-0.46730989496506137\n",
      "\n",
      "\n",
      "At random state 39, The training accuracy is :-0.4622535804752196\n",
      "At random state 39, The test accuracy is :-0.45762904534821325\n",
      "\n",
      "\n",
      "At random state 40, The training accuracy is :-0.46133422042893923\n",
      "At random state 40, The test accuracy is :-0.4612047296366617\n",
      "\n",
      "\n",
      "At random state 41, The training accuracy is :-0.46164834014447276\n",
      "At random state 41, The test accuracy is :-0.4599496944637238\n",
      "\n",
      "\n",
      "At random state 42, The training accuracy is :-0.458034301557421\n",
      "At random state 42, The test accuracy is :-0.47386937588598677\n",
      "\n",
      "\n",
      "At random state 43, The training accuracy is :-0.46030425601320646\n",
      "At random state 43, The test accuracy is :-0.46445100605293876\n",
      "\n",
      "\n",
      "At random state 44, The training accuracy is :-0.46242114786443145\n",
      "At random state 44, The test accuracy is :-0.4566272829673018\n",
      "\n",
      "\n",
      "At random state 45, The training accuracy is :-0.4579540061258516\n",
      "At random state 45, The test accuracy is :-0.4726257043724297\n",
      "\n",
      "\n",
      "At random state 46, The training accuracy is :-0.4615926769956732\n",
      "At random state 46, The test accuracy is :-0.4603164608517084\n",
      "\n",
      "\n",
      "At random state 47, The training accuracy is :-0.46174567965891333\n",
      "At random state 47, The test accuracy is :-0.4600245191443799\n",
      "\n",
      "\n",
      "At random state 48, The training accuracy is :-0.46306808881256\n",
      "At random state 48, The test accuracy is :-0.45452959534632575\n",
      "\n",
      "\n",
      "At random state 49, The training accuracy is :-0.457342244483006\n",
      "At random state 49, The test accuracy is :-0.4751541494307724\n",
      "\n",
      "\n",
      "At random state 50, The training accuracy is :-0.46316077779628595\n",
      "At random state 50, The test accuracy is :-0.4546636795382477\n",
      "\n",
      "\n",
      "At random state 51, The training accuracy is :-0.4618740059959874\n",
      "At random state 51, The test accuracy is :-0.4594292096753523\n",
      "\n",
      "\n",
      "At random state 52, The training accuracy is :-0.45838653872854096\n",
      "At random state 52, The test accuracy is :-0.4707503100048487\n",
      "\n",
      "\n",
      "At random state 53, The training accuracy is :-0.4640352914556034\n",
      "At random state 53, The test accuracy is :-0.4510900223151004\n",
      "\n",
      "\n",
      "At random state 54, The training accuracy is :-0.4628243482038562\n",
      "At random state 54, The test accuracy is :-0.455626870703395\n",
      "\n",
      "\n",
      "At random state 55, The training accuracy is :-0.46020304310344184\n",
      "At random state 55, The test accuracy is :-0.46485756039689463\n",
      "\n",
      "\n",
      "At random state 56, The training accuracy is :-0.46066639043036584\n",
      "At random state 56, The test accuracy is :-0.46381763215478666\n",
      "\n",
      "\n",
      "At random state 57, The training accuracy is :-0.462487926116425\n",
      "At random state 57, The test accuracy is :-0.4573748342672004\n",
      "\n",
      "\n",
      "At random state 58, The training accuracy is :-0.45792427704574623\n",
      "At random state 58, The test accuracy is :-0.4725067817361601\n",
      "\n",
      "\n",
      "At random state 59, The training accuracy is :-0.4628136712308698\n",
      "At random state 59, The test accuracy is :-0.45535435712854255\n",
      "\n",
      "\n",
      "At random state 60, The training accuracy is :-0.46276340415942907\n",
      "At random state 60, The test accuracy is :-0.4560778544923155\n",
      "\n",
      "\n",
      "At random state 61, The training accuracy is :-0.4559423495273075\n",
      "At random state 61, The test accuracy is :-0.4812737226457596\n",
      "\n",
      "\n",
      "At random state 62, The training accuracy is :-0.4599250483763617\n",
      "At random state 62, The test accuracy is :-0.4662583547241397\n",
      "\n",
      "\n",
      "At random state 63, The training accuracy is :-0.46581621333656287\n",
      "At random state 63, The test accuracy is :-0.44497354806066836\n",
      "\n",
      "\n",
      "At random state 64, The training accuracy is :-0.4612924601435894\n",
      "At random state 64, The test accuracy is :-0.4615962557169684\n",
      "\n",
      "\n",
      "At random state 65, The training accuracy is :-0.4583864868113733\n",
      "At random state 65, The test accuracy is :-0.4716569858005699\n",
      "\n",
      "\n",
      "At random state 66, The training accuracy is :-0.46236544436561755\n",
      "At random state 66, The test accuracy is :-0.4575602736101614\n",
      "\n",
      "\n",
      "At random state 67, The training accuracy is :-0.459446092288767\n",
      "At random state 67, The test accuracy is :-0.4677518696852667\n",
      "\n",
      "\n",
      "At random state 68, The training accuracy is :-0.4586646404486987\n",
      "At random state 68, The test accuracy is :-0.470831656861879\n",
      "\n",
      "\n",
      "At random state 69, The training accuracy is :-0.45963078204079266\n",
      "At random state 69, The test accuracy is :-0.4671585414813716\n",
      "\n",
      "\n",
      "At random state 70, The training accuracy is :-0.4633808252422653\n",
      "At random state 70, The test accuracy is :-0.4539190163649951\n",
      "\n",
      "\n",
      "At random state 71, The training accuracy is :-0.460385095059169\n",
      "At random state 71, The test accuracy is :-0.46392082602793294\n",
      "\n",
      "\n",
      "At random state 72, The training accuracy is :-0.45679860548925943\n",
      "At random state 72, The test accuracy is :-0.476356933797108\n",
      "\n",
      "\n",
      "At random state 73, The training accuracy is :-0.45781761159755807\n",
      "At random state 73, The test accuracy is :-0.4737284605121268\n",
      "\n",
      "\n",
      "At random state 74, The training accuracy is :-0.46021887580693144\n",
      "At random state 74, The test accuracy is :-0.4653688302612242\n",
      "\n",
      "\n",
      "At random state 75, The training accuracy is :-0.4593360327434284\n",
      "At random state 75, The test accuracy is :-0.46826388368147975\n",
      "\n",
      "\n",
      "At random state 76, The training accuracy is :-0.46091237484914804\n",
      "At random state 76, The test accuracy is :-0.4626615225317343\n",
      "\n",
      "\n",
      "At random state 77, The training accuracy is :-0.4655472072058586\n",
      "At random state 77, The test accuracy is :-0.4439573242666185\n",
      "\n",
      "\n",
      "At random state 78, The training accuracy is :-0.462164492562243\n",
      "At random state 78, The test accuracy is :-0.4580505409442055\n",
      "\n",
      "\n",
      "At random state 79, The training accuracy is :-0.46161758173459\n",
      "At random state 79, The test accuracy is :-0.4599393783560306\n",
      "\n",
      "\n",
      "At random state 80, The training accuracy is :-0.4618411238831627\n",
      "At random state 80, The test accuracy is :-0.45949578114224154\n",
      "\n",
      "\n",
      "At random state 81, The training accuracy is :-0.46597453743848016\n",
      "At random state 81, The test accuracy is :-0.4444755667640531\n",
      "\n",
      "\n",
      "At random state 82, The training accuracy is :-0.46663377198398315\n",
      "At random state 82, The test accuracy is :-0.44122767808859364\n",
      "\n",
      "\n",
      "At random state 83, The training accuracy is :-0.46565812087819547\n",
      "At random state 83, The test accuracy is :-0.4450343790268859\n",
      "\n",
      "\n",
      "At random state 84, The training accuracy is :-0.46172505393994556\n",
      "At random state 84, The test accuracy is :-0.459830867158882\n",
      "\n",
      "\n",
      "At random state 85, The training accuracy is :-0.4670211455492628\n",
      "At random state 85, The test accuracy is :-0.4412060944808841\n",
      "\n",
      "\n",
      "At random state 86, The training accuracy is :-0.4665862748828643\n",
      "At random state 86, The test accuracy is :-0.4435294323291389\n",
      "\n",
      "\n",
      "At random state 87, The training accuracy is :-0.4621684358269663\n",
      "At random state 87, The test accuracy is :-0.4572130786362343\n",
      "\n",
      "\n",
      "At random state 88, The training accuracy is :-0.46842838308255974\n",
      "At random state 88, The test accuracy is :-0.4347926953785842\n",
      "\n",
      "\n",
      "At random state 89, The training accuracy is :-0.4672900766574273\n",
      "At random state 89, The test accuracy is :-0.43833385612487497\n",
      "\n",
      "\n",
      "At random state 90, The training accuracy is :-0.46179935216081114\n",
      "At random state 90, The test accuracy is :-0.45927345562674615\n",
      "\n",
      "\n",
      "At random state 91, The training accuracy is :-0.4566886200015766\n",
      "At random state 91, The test accuracy is :-0.4765904239718789\n",
      "\n",
      "\n",
      "At random state 92, The training accuracy is :-0.4669898075890574\n",
      "At random state 92, The test accuracy is :-0.4418184652349555\n",
      "\n",
      "\n",
      "At random state 93, The training accuracy is :-0.4665002812934327\n",
      "At random state 93, The test accuracy is :-0.44410816190094715\n",
      "\n",
      "\n",
      "At random state 94, The training accuracy is :-0.45873864460972125\n",
      "At random state 94, The test accuracy is :-0.4698017038537219\n",
      "\n",
      "\n",
      "At random state 95, The training accuracy is :-0.4607009421752378\n",
      "At random state 95, The test accuracy is :-0.463137324713329\n",
      "\n",
      "\n",
      "At random state 96, The training accuracy is :-0.46473740590976675\n",
      "At random state 96, The test accuracy is :-0.4488317100109811\n",
      "\n",
      "\n",
      "At random state 97, The training accuracy is :-0.46361791103783745\n",
      "At random state 97, The test accuracy is :-0.45300235075946094\n",
      "\n",
      "\n",
      "At random state 98, The training accuracy is :-0.46004511057501896\n",
      "At random state 98, The test accuracy is :-0.4659297267874378\n",
      "\n",
      "\n",
      "At random state 99, The training accuracy is :-0.4566582067831041\n",
      "At random state 99, The test accuracy is :-0.47653902561604233\n",
      "\n",
      "\n",
      "At random state 100, The training accuracy is :-0.46217520443073057\n",
      "At random state 100, The test accuracy is :-0.45805966357011696\n",
      "\n",
      "\n",
      "At random state 101, The training accuracy is :-0.4580183850348052\n",
      "At random state 101, The test accuracy is :-0.4728799788053708\n",
      "\n",
      "\n",
      "At random state 102, The training accuracy is :-0.4612555429596761\n",
      "At random state 102, The test accuracy is :-0.4611919194197426\n",
      "\n",
      "\n",
      "At random state 103, The training accuracy is :-0.46270395763990346\n",
      "At random state 103, The test accuracy is :-0.4559749081835147\n",
      "\n",
      "\n",
      "At random state 104, The training accuracy is :-0.4632126874043382\n",
      "At random state 104, The test accuracy is :-0.4547622378443785\n",
      "\n",
      "\n",
      "At random state 105, The training accuracy is :-0.4575204899382217\n",
      "At random state 105, The test accuracy is :-0.4740944143405883\n",
      "\n",
      "\n",
      "At random state 106, The training accuracy is :-0.4626315277413764\n",
      "At random state 106, The test accuracy is :-0.45677354966912354\n",
      "\n",
      "\n",
      "At random state 107, The training accuracy is :-0.4614396370750484\n",
      "At random state 107, The test accuracy is :-0.4603920497657238\n",
      "\n",
      "\n",
      "At random state 108, The training accuracy is :-0.45752405096706983\n",
      "At random state 108, The test accuracy is :-0.47462956714944504\n",
      "\n",
      "\n",
      "At random state 109, The training accuracy is :-0.45850291898053985\n",
      "At random state 109, The test accuracy is :-0.4715036853101322\n",
      "\n",
      "\n",
      "At random state 110, The training accuracy is :-0.4644828927508021\n",
      "At random state 110, The test accuracy is :-0.44992678196146985\n",
      "\n",
      "\n",
      "At random state 111, The training accuracy is :-0.45855500826402495\n",
      "At random state 111, The test accuracy is :-0.46942823877870843\n",
      "\n",
      "\n",
      "At random state 112, The training accuracy is :-0.45964051558762375\n",
      "At random state 112, The test accuracy is :-0.4655246451271413\n",
      "\n",
      "\n",
      "At random state 113, The training accuracy is :-0.4614065110721678\n",
      "At random state 113, The test accuracy is :-0.46052306667416354\n",
      "\n",
      "\n",
      "At random state 114, The training accuracy is :-0.461144416565722\n",
      "At random state 114, The test accuracy is :-0.4619233722505367\n",
      "\n",
      "\n",
      "At random state 115, The training accuracy is :-0.4593217864067264\n",
      "At random state 115, The test accuracy is :-0.4682180978333116\n",
      "\n",
      "\n",
      "At random state 116, The training accuracy is :-0.46049828540300974\n",
      "At random state 116, The test accuracy is :-0.46408288722966373\n",
      "\n",
      "\n",
      "At random state 117, The training accuracy is :-0.46665942300570173\n",
      "At random state 117, The test accuracy is :-0.4414098638401589\n",
      "\n",
      "\n",
      "At random state 118, The training accuracy is :-0.4579420767894764\n",
      "At random state 118, The test accuracy is :-0.4734058553424514\n",
      "\n",
      "\n",
      "At random state 119, The training accuracy is :-0.4597364984737379\n",
      "At random state 119, The test accuracy is :-0.46687768905134663\n",
      "\n",
      "\n",
      "At random state 120, The training accuracy is :-0.46576509847269487\n",
      "At random state 120, The test accuracy is :-0.44473213377846676\n",
      "\n",
      "\n",
      "At random state 121, The training accuracy is :-0.46126830262336893\n",
      "At random state 121, The test accuracy is :-0.4613287041074656\n",
      "\n",
      "\n",
      "At random state 122, The training accuracy is :-0.4599141215190291\n",
      "At random state 122, The test accuracy is :-0.46611081868530446\n",
      "\n",
      "\n",
      "At random state 123, The training accuracy is :-0.46177012062999023\n",
      "At random state 123, The test accuracy is :-0.4594325699711057\n",
      "\n",
      "\n",
      "At random state 124, The training accuracy is :-0.46300243276867137\n",
      "At random state 124, The test accuracy is :-0.45512313975678376\n",
      "\n",
      "\n",
      "At random state 125, The training accuracy is :-0.4648242690371719\n",
      "At random state 125, The test accuracy is :-0.4484326785117321\n",
      "\n",
      "\n",
      "At random state 126, The training accuracy is :-0.46248947485546443\n",
      "At random state 126, The test accuracy is :-0.45722050595623753\n",
      "\n",
      "\n",
      "At random state 127, The training accuracy is :-0.45999546598712937\n",
      "At random state 127, The test accuracy is :-0.4658799322140995\n",
      "\n",
      "\n",
      "At random state 128, The training accuracy is :-0.4599067930018611\n",
      "At random state 128, The test accuracy is :-0.46614208398481327\n",
      "\n",
      "\n",
      "At random state 129, The training accuracy is :-0.46653765312250195\n",
      "At random state 129, The test accuracy is :-0.44271595485081316\n",
      "\n",
      "\n",
      "At random state 130, The training accuracy is :-0.46142918921545617\n",
      "At random state 130, The test accuracy is :-0.4609721852820782\n",
      "\n",
      "\n",
      "At random state 131, The training accuracy is :-0.4605057682946898\n",
      "At random state 131, The test accuracy is :-0.4644511668727327\n",
      "\n",
      "\n",
      "At random state 132, The training accuracy is :-0.46594299629487945\n",
      "At random state 132, The test accuracy is :-0.44447777979190983\n",
      "\n",
      "\n",
      "At random state 133, The training accuracy is :-0.46014968841861204\n",
      "At random state 133, The test accuracy is :-0.4651549461409856\n",
      "\n",
      "\n",
      "At random state 134, The training accuracy is :-0.4599227443726618\n",
      "At random state 134, The test accuracy is :-0.4659530987449183\n",
      "\n",
      "\n",
      "At random state 135, The training accuracy is :-0.4585141040900993\n",
      "At random state 135, The test accuracy is :-0.4711686178136383\n",
      "\n",
      "\n",
      "At random state 136, The training accuracy is :-0.45776360194691024\n",
      "At random state 136, The test accuracy is :-0.4740766924510157\n",
      "\n",
      "\n",
      "At random state 137, The training accuracy is :-0.46037136277693813\n",
      "At random state 137, The test accuracy is :-0.4637120708676893\n",
      "\n",
      "\n",
      "At random state 138, The training accuracy is :-0.4608413558961727\n",
      "At random state 138, The test accuracy is :-0.4628037992757247\n",
      "\n",
      "\n",
      "At random state 139, The training accuracy is :-0.45703508626668043\n",
      "At random state 139, The test accuracy is :-0.47595337444181063\n",
      "\n",
      "\n",
      "At random state 140, The training accuracy is :-0.46371510515100256\n",
      "At random state 140, The test accuracy is :-0.453500365802319\n",
      "\n",
      "\n",
      "At random state 141, The training accuracy is :-0.4593155612314658\n",
      "At random state 141, The test accuracy is :-0.4673516161250293\n",
      "\n",
      "\n",
      "At random state 142, The training accuracy is :-0.4588544166703109\n",
      "At random state 142, The test accuracy is :-0.4698901974234083\n",
      "\n",
      "\n",
      "At random state 143, The training accuracy is :-0.4623828486339998\n",
      "At random state 143, The test accuracy is :-0.45694174782576635\n",
      "\n",
      "\n",
      "At random state 144, The training accuracy is :-0.4615518188183997\n",
      "At random state 144, The test accuracy is :-0.4606332991686046\n",
      "\n",
      "\n",
      "At random state 145, The training accuracy is :-0.45885522246678256\n",
      "At random state 145, The test accuracy is :-0.46906676611703324\n",
      "\n",
      "\n",
      "At random state 146, The training accuracy is :-0.4633284400644764\n",
      "At random state 146, The test accuracy is :-0.454264662645133\n",
      "\n",
      "\n",
      "At random state 147, The training accuracy is :-0.4599503883783693\n",
      "At random state 147, The test accuracy is :-0.4655088070250718\n",
      "\n",
      "\n",
      "At random state 148, The training accuracy is :-0.46107396402120426\n",
      "At random state 148, The test accuracy is :-0.4617273214912473\n",
      "\n",
      "\n",
      "At random state 149, The training accuracy is :-0.4644917253120264\n",
      "At random state 149, The test accuracy is :-0.4492622458546045\n",
      "\n",
      "\n"
     ]
    }
   ],
   "source": [
    "from sklearn.linear_model import LinearRegression\n",
    "\n",
    "\n",
    "LR = LinearRegression()\n",
    "\n",
    "for i in range(0,150):\n",
    "    x_train,x_test,y_train,y_test=train_test_split(x,y,test_size=0.22,random_state=i)\n",
    "    LR.fit(x_train,y_train)\n",
    "    LR_predict_train=LR.predict(x_train)\n",
    "    LR_predict_test=LR.predict(x_test)\n",
    "    print(f'At random state {i}, The training accuracy is :-{r2_score(y_train,LR_predict_train)}')\n",
    "    print(f'At random state {i}, The test accuracy is :-{r2_score(y_test,LR_predict_test)}')\n",
    "    print('\\n')"
   ]
  },
  {
   "cell_type": "code",
   "execution_count": null,
   "id": "5207c9ce",
   "metadata": {},
   "outputs": [],
   "source": [
    "# spliting the data into 78% training and 22% testing\n",
    "\n",
    "x_train,x_test,y_train,y_test=train_test_split(x,y,test_size=0.22,random_state=24)"
   ]
  },
  {
   "cell_type": "code",
   "execution_count": 51,
   "id": "ad40583b",
   "metadata": {},
   "outputs": [
    {
     "data": {
      "text/plain": [
       "(11863, 8)"
      ]
     },
     "execution_count": 51,
     "metadata": {},
     "output_type": "execute_result"
    }
   ],
   "source": [
    "x_train.shape"
   ]
  },
  {
   "cell_type": "code",
   "execution_count": 52,
   "id": "676d52be",
   "metadata": {},
   "outputs": [
    {
     "data": {
      "text/plain": [
       "(11863,)"
      ]
     },
     "execution_count": 52,
     "metadata": {},
     "output_type": "execute_result"
    }
   ],
   "source": [
    "y_train.shape"
   ]
  },
  {
   "cell_type": "code",
   "execution_count": 53,
   "id": "4b33aae0",
   "metadata": {},
   "outputs": [
    {
     "data": {
      "text/plain": [
       "(3347, 8)"
      ]
     },
     "execution_count": 53,
     "metadata": {},
     "output_type": "execute_result"
    }
   ],
   "source": [
    "x_test.shape"
   ]
  },
  {
   "cell_type": "code",
   "execution_count": 54,
   "id": "ad514e2e",
   "metadata": {},
   "outputs": [
    {
     "data": {
      "text/plain": [
       "(3347,)"
      ]
     },
     "execution_count": 54,
     "metadata": {},
     "output_type": "execute_result"
    }
   ],
   "source": [
    "y_test.shape"
   ]
  },
  {
   "cell_type": "markdown",
   "id": "976352ec",
   "metadata": {},
   "source": [
    "# Model Building-"
   ]
  },
  {
   "cell_type": "markdown",
   "id": "8adbd94f",
   "metadata": {},
   "source": [
    "# Linear Regression"
   ]
  },
  {
   "cell_type": "code",
   "execution_count": 55,
   "id": "a08cc599",
   "metadata": {},
   "outputs": [
    {
     "name": "stdout",
     "output_type": "stream",
     "text": [
      "0.4607041211288372\n"
     ]
    }
   ],
   "source": [
    "from sklearn.linear_model import LinearRegression\n",
    "\n",
    "LR = LinearRegression()\n",
    "LR.fit(x_train,y_train)\n",
    "print(LR.score(x_train,y_train))\n",
    "LR_predict=LR.predict(x_test)"
   ]
  },
  {
   "cell_type": "code",
   "execution_count": 56,
   "id": "09656021",
   "metadata": {},
   "outputs": [
    {
     "name": "stdout",
     "output_type": "stream",
     "text": [
      "MSE: 0.08809039305240889\n",
      "MAE: 0.23213172991603\n",
      "r2_score: -0.11920269487224533\n"
     ]
    }
   ],
   "source": [
    "print('MSE:',mean_squared_error(LR_predict,y_test))\n",
    "print('MAE:',mean_absolute_error(LR_predict,y_test))\n",
    "print('r2_score:',r2_score(LR_predict,y_test))"
   ]
  },
  {
   "cell_type": "markdown",
   "id": "3e85cfc8",
   "metadata": {},
   "source": [
    "# Ridge"
   ]
  },
  {
   "cell_type": "code",
   "execution_count": 57,
   "id": "9b42bd99",
   "metadata": {},
   "outputs": [
    {
     "name": "stdout",
     "output_type": "stream",
     "text": [
      "0.4604670676664736\n"
     ]
    }
   ],
   "source": [
    "from sklearn.linear_model import Ridge\n",
    "\n",
    "R = Ridge()\n",
    "R.fit(x_train,y_train)\n",
    "print(R.score(x_train,y_train))\n",
    "R_predict=R.predict(x_test)"
   ]
  },
  {
   "cell_type": "code",
   "execution_count": 58,
   "id": "4558ae51",
   "metadata": {},
   "outputs": [
    {
     "name": "stdout",
     "output_type": "stream",
     "text": [
      "MSE: 0.08807520553213663\n",
      "MAE: 0.2319064074972269\n",
      "r2_score: -0.14298119347176197\n"
     ]
    }
   ],
   "source": [
    "print('MSE:',mean_squared_error(R_predict,y_test))\n",
    "print('MAE:',mean_absolute_error(R_predict,y_test))\n",
    "print('r2_score:',r2_score(R_predict,y_test))"
   ]
  },
  {
   "cell_type": "markdown",
   "id": "33ba4ba7",
   "metadata": {},
   "source": [
    "# SVR\n",
    "SVR(kernel='linear')"
   ]
  },
  {
   "cell_type": "code",
   "execution_count": null,
   "id": "11df4460",
   "metadata": {},
   "outputs": [],
   "source": [
    "from sklearn.svm import SVR\n",
    "\n",
    "svr = SVR(kernel='linear')\n",
    "svr.fit(x_train,y_train)\n",
    "print(svr.score(x_train,y_train))\n",
    "svr_predict=svr.predict(x_test)"
   ]
  },
  {
   "cell_type": "code",
   "execution_count": 60,
   "id": "99f13143",
   "metadata": {},
   "outputs": [
    {
     "name": "stdout",
     "output_type": "stream",
     "text": [
      "MSE: 0.08811915929643369\n",
      "MAE: 0.2305300411831288\n",
      "r2_score: -0.14446570719328267\n"
     ]
    }
   ],
   "source": [
    "print('MSE:',mean_squared_error(svr_predict,y_test))\n",
    "print('MAE:',mean_absolute_error(svr_predict,y_test))\n",
    "print('r2_score:',r2_score(svr_predict,y_test))"
   ]
  },
  {
   "cell_type": "markdown",
   "id": "5ae5ed54",
   "metadata": {},
   "source": [
    "# Random Forest Regressor"
   ]
  },
  {
   "cell_type": "code",
   "execution_count": null,
   "id": "793897b4",
   "metadata": {},
   "outputs": [],
   "source": [
    "from sklearn.ensemble import RandomForestRegressor\n",
    "\n",
    "RF = RandomForestRegressor()\n",
    "RF.fit(x_train,y_train)\n",
    "print(RF.score(x_train,y_train))\n",
    "RF_PRED=RF.predict(x_test)"
   ]
  },
  {
   "cell_type": "code",
   "execution_count": 62,
   "id": "9040c1de",
   "metadata": {},
   "outputs": [
    {
     "name": "stdout",
     "output_type": "stream",
     "text": [
      "MSE: 0.01831094838661488\n",
      "MAE: 0.09263916940543772\n",
      "r2_score: 0.8596468349913271\n"
     ]
    }
   ],
   "source": [
    "print('MSE:',mean_squared_error(RF_PRED,y_test))\n",
    "print('MAE:',mean_absolute_error(RF_PRED,y_test))\n",
    "print('r2_score:',r2_score(RF_PRED,y_test))"
   ]
  },
  {
   "cell_type": "markdown",
   "id": "ca5fb3dd",
   "metadata": {},
   "source": [
    "# Decision Tree Regressor"
   ]
  },
  {
   "cell_type": "code",
   "execution_count": 63,
   "id": "5219aebb",
   "metadata": {},
   "outputs": [
    {
     "name": "stdout",
     "output_type": "stream",
     "text": [
      "1.0\n"
     ]
    }
   ],
   "source": [
    "from sklearn.tree import DecisionTreeRegressor\n",
    "\n",
    "DTR = DecisionTreeRegressor()\n",
    "DTR.fit(x_train,y_train)\n",
    "print(DTR.score(x_train,y_train))\n",
    "DTR_PRED=DTR.predict(x_test)"
   ]
  },
  {
   "cell_type": "code",
   "execution_count": 64,
   "id": "b90a2e3c",
   "metadata": {},
   "outputs": [
    {
     "name": "stdout",
     "output_type": "stream",
     "text": [
      "MSE: 0.03974362115327158\n",
      "MAE: 0.12889453241708995\n",
      "r2_score: 0.7571861986396059\n"
     ]
    }
   ],
   "source": [
    "print('MSE:',mean_squared_error(DTR_PRED,y_test))\n",
    "print('MAE:',mean_absolute_error(DTR_PRED,y_test))\n",
    "print('r2_score:',r2_score(DTR_PRED,y_test))"
   ]
  },
  {
   "cell_type": "markdown",
   "id": "2b996254",
   "metadata": {},
   "source": [
    "# Cross Validation"
   ]
  },
  {
   "cell_type": "code",
   "execution_count": null,
   "id": "fb6b505f",
   "metadata": {},
   "outputs": [],
   "source": [
    "from sklearn.model_selection import cross_val_score\n",
    "\n",
    "np.random.seed(10)\n",
    "def rmse_cv(model, x,y):\n",
    "    rmse =- (cross_val_score(model, x,y, scoring='neg_mean_squared_error', cv=10))\n",
    "    return(rmse)\n",
    "\n",
    "\n",
    "models = [LinearRegression(),\n",
    "             Ridge(),\n",
    "             SVR(kernel='linear'),\n",
    "             RandomForestRegressor(),\n",
    "             DecisionTreeRegressor()]\n",
    "             \n",
    "          \n",
    "          \n",
    "names = ['LR', 'R', 'svr','RF','DTR']\n",
    "          \n",
    "for model,name in zip(models,names):\n",
    "          score = rmse_cv(model,x,y)\n",
    "          print(\"{}  : {:.6f}, {:4f}\".format(name,score.mean(),score.std()))"
   ]
  },
  {
   "cell_type": "markdown",
   "id": "d83050ed",
   "metadata": {},
   "source": [
    "# GridSearchCV"
   ]
  },
  {
   "cell_type": "code",
   "execution_count": null,
   "id": "a930a139",
   "metadata": {},
   "outputs": [],
   "source": [
    "from sklearn.model_selection import GridSearchCV"
   ]
  },
  {
   "cell_type": "code",
   "execution_count": null,
   "id": "d743c12e",
   "metadata": {},
   "outputs": [],
   "source": [
    "RF = RandomForestRegressor()\n",
    "\n",
    "param ={\n",
    "       'n_estimators':[100,200],\n",
    "      'criterion':['mse','mae'],\n",
    "     'min_samples_split':[2],\n",
    "    'min_samples_leaf':[1],\n",
    "}"
   ]
  },
  {
   "cell_type": "code",
   "execution_count": null,
   "id": "a061ca49",
   "metadata": {},
   "outputs": [],
   "source": [
    "RF_grid=GridSearchCV(RandomForestRegressor(),param,cv=4,scoring='accuracy',n_jobs=-1,verbose=2)"
   ]
  },
  {
   "cell_type": "code",
   "execution_count": null,
   "id": "c77e5f03",
   "metadata": {},
   "outputs": [],
   "source": [
    "RF_grid.fit(x_train,y_train)\n",
    "RF_grid_PRED=RF_grid.best_estimator_.predict(x_test)"
   ]
  },
  {
   "cell_type": "code",
   "execution_count": null,
   "id": "70edbf4b",
   "metadata": {},
   "outputs": [],
   "source": [
    "RF_grid.best_params_"
   ]
  },
  {
   "cell_type": "code",
   "execution_count": null,
   "id": "fe7f2c79",
   "metadata": {},
   "outputs": [],
   "source": [
    "print('MSE:',mean_squared_error(RF_grid_PRED,y_test))\n",
    "print('MAE:',mean_absolute_error(RF_grid_PRED,y_test))\n",
    "print('r2_score:',r2_score(RF_grid_PRED,y_test))"
   ]
  },
  {
   "cell_type": "markdown",
   "id": "abe20076",
   "metadata": {},
   "source": [
    "# With Best Parameters"
   ]
  },
  {
   "cell_type": "code",
   "execution_count": null,
   "id": "4caa2466",
   "metadata": {},
   "outputs": [],
   "source": [
    "RF = RandomForestRegressor()\n",
    "\n",
    "param ={\n",
    "       'n_estimators':[100],\n",
    "      'criterion':['mse'],\n",
    "     'min_samples_split':[2],\n",
    "    'min_samples_leaf':[1],\n",
    "}"
   ]
  },
  {
   "cell_type": "code",
   "execution_count": null,
   "id": "baf59aa3",
   "metadata": {},
   "outputs": [],
   "source": [
    "RF_grid=GridSearchCV(RandomForestRegressor(),param,cv=4,scoring='accuracy',n_jobs=-1,verbose=2)\n",
    "RF_grid.fit(x_train,y_train)\n",
    "RF_grid_PRED=RF_grid.best_estimator_.predict(x_test)"
   ]
  },
  {
   "cell_type": "code",
   "execution_count": null,
   "id": "7bf64fd4",
   "metadata": {},
   "outputs": [],
   "source": [
    "print('MSE:',mean_squared_error(RF_grid_PRED,y_test))\n",
    "print('MAE:',mean_absolute_error(RF_grid_PRED,y_test))\n",
    "print('r2_score:',r2_score(RF_grid_PRED,y_test))"
   ]
  },
  {
   "cell_type": "code",
   "execution_count": null,
   "id": "9379ee1b",
   "metadata": {},
   "outputs": [],
   "source": [
    "RF_grid_PRED"
   ]
  },
  {
   "cell_type": "code",
   "execution_count": null,
   "id": "d82e8530",
   "metadata": {},
   "outputs": [],
   "source": [
    "sns.distplot(RF_grid_PRED-y_test)"
   ]
  },
  {
   "cell_type": "code",
   "execution_count": null,
   "id": "b700eb37",
   "metadata": {},
   "outputs": [],
   "source": [
    "plt.scatter(RF_grid_PRED,y_test)\n",
    "plt.plot(y_test,y_test,linewidth=4,color='Red')"
   ]
  },
  {
   "cell_type": "markdown",
   "id": "f8914704",
   "metadata": {},
   "source": [
    "# Saving The Model"
   ]
  },
  {
   "cell_type": "code",
   "execution_count": null,
   "id": "5463c381",
   "metadata": {},
   "outputs": [],
   "source": [
    "import joblib"
   ]
  },
  {
   "cell_type": "code",
   "execution_count": null,
   "id": "0c3678a1",
   "metadata": {},
   "outputs": [],
   "source": [
    "joblib.dump(RF_grid.best_estimator_,'Avocado_Prediction_Project.obj')"
   ]
  },
  {
   "cell_type": "code",
   "execution_count": null,
   "id": "8ef2b672",
   "metadata": {},
   "outputs": [],
   "source": []
  }
 ],
 "metadata": {
  "kernelspec": {
   "display_name": "Python 3 (ipykernel)",
   "language": "python",
   "name": "python3"
  },
  "language_info": {
   "codemirror_mode": {
    "name": "ipython",
    "version": 3
   },
   "file_extension": ".py",
   "mimetype": "text/x-python",
   "name": "python",
   "nbconvert_exporter": "python",
   "pygments_lexer": "ipython3",
   "version": "3.9.7"
  }
 },
 "nbformat": 4,
 "nbformat_minor": 5
}
