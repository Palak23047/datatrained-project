{
 "cells": [
  {
   "cell_type": "code",
   "execution_count": 199,
   "id": "768038b6",
   "metadata": {},
   "outputs": [
    {
     "ename": "AttributeError",
     "evalue": "module 'sklearn.utils._openmp_helpers' has no attribute '__pyx_capi__'",
     "output_type": "error",
     "traceback": [
      "\u001b[1;31m---------------------------------------------------------------------------\u001b[0m",
      "\u001b[1;31mAttributeError\u001b[0m                            Traceback (most recent call last)",
      "\u001b[1;32mC:\\Users\\MOHITL~1\\AppData\\Local\\Temp/ipykernel_5488/1385634393.py\u001b[0m in \u001b[0;36m<module>\u001b[1;34m\u001b[0m\n\u001b[0;32m     14\u001b[0m \u001b[1;32mfrom\u001b[0m \u001b[0msklearn\u001b[0m\u001b[1;33m.\u001b[0m\u001b[0mpreprocessing\u001b[0m \u001b[1;32mimport\u001b[0m \u001b[0mOrdinalEncoder\u001b[0m\u001b[1;33m\u001b[0m\u001b[1;33m\u001b[0m\u001b[0m\n\u001b[0;32m     15\u001b[0m \u001b[1;32mfrom\u001b[0m \u001b[0msklearn\u001b[0m\u001b[1;33m.\u001b[0m\u001b[0mpreprocessing\u001b[0m \u001b[1;32mimport\u001b[0m \u001b[0mStandardScaler\u001b[0m\u001b[1;33m\u001b[0m\u001b[1;33m\u001b[0m\u001b[0m\n\u001b[1;32m---> 16\u001b[1;33m \u001b[1;32mfrom\u001b[0m \u001b[0msklearn\u001b[0m\u001b[1;33m.\u001b[0m\u001b[0mmodel_selection\u001b[0m \u001b[1;32mimport\u001b[0m \u001b[0mtrain_test_split\u001b[0m\u001b[1;33m\u001b[0m\u001b[1;33m\u001b[0m\u001b[0m\n\u001b[0m\u001b[0;32m     17\u001b[0m \u001b[1;32mfrom\u001b[0m \u001b[0msklearn\u001b[0m\u001b[1;33m.\u001b[0m\u001b[0mlinear_model\u001b[0m \u001b[1;32mimport\u001b[0m \u001b[0mLogisticRegression\u001b[0m\u001b[1;33m\u001b[0m\u001b[1;33m\u001b[0m\u001b[0m\n\u001b[0;32m     18\u001b[0m \u001b[1;32mfrom\u001b[0m \u001b[0msklearn\u001b[0m\u001b[1;33m.\u001b[0m\u001b[0msvm\u001b[0m \u001b[1;32mimport\u001b[0m \u001b[0mSVC\u001b[0m\u001b[1;33m\u001b[0m\u001b[1;33m\u001b[0m\u001b[0m\n",
      "\u001b[1;32m~\\anaconda3\\lib\\site-packages\\sklearn\\model_selection\\__init__.py\u001b[0m in \u001b[0;36m<module>\u001b[1;34m\u001b[0m\n\u001b[0;32m     21\u001b[0m \u001b[1;32mfrom\u001b[0m \u001b[1;33m.\u001b[0m\u001b[0m_split\u001b[0m \u001b[1;32mimport\u001b[0m \u001b[0mcheck_cv\u001b[0m\u001b[1;33m\u001b[0m\u001b[1;33m\u001b[0m\u001b[0m\n\u001b[0;32m     22\u001b[0m \u001b[1;33m\u001b[0m\u001b[0m\n\u001b[1;32m---> 23\u001b[1;33m \u001b[1;32mfrom\u001b[0m \u001b[1;33m.\u001b[0m\u001b[0m_validation\u001b[0m \u001b[1;32mimport\u001b[0m \u001b[0mcross_val_score\u001b[0m\u001b[1;33m\u001b[0m\u001b[1;33m\u001b[0m\u001b[0m\n\u001b[0m\u001b[0;32m     24\u001b[0m \u001b[1;32mfrom\u001b[0m \u001b[1;33m.\u001b[0m\u001b[0m_validation\u001b[0m \u001b[1;32mimport\u001b[0m \u001b[0mcross_val_predict\u001b[0m\u001b[1;33m\u001b[0m\u001b[1;33m\u001b[0m\u001b[0m\n\u001b[0;32m     25\u001b[0m \u001b[1;32mfrom\u001b[0m \u001b[1;33m.\u001b[0m\u001b[0m_validation\u001b[0m \u001b[1;32mimport\u001b[0m \u001b[0mcross_validate\u001b[0m\u001b[1;33m\u001b[0m\u001b[1;33m\u001b[0m\u001b[0m\n",
      "\u001b[1;32m~\\anaconda3\\lib\\site-packages\\sklearn\\model_selection\\_validation.py\u001b[0m in \u001b[0;36m<module>\u001b[1;34m\u001b[0m\n\u001b[0;32m     30\u001b[0m \u001b[1;32mfrom\u001b[0m \u001b[1;33m.\u001b[0m\u001b[1;33m.\u001b[0m\u001b[0mutils\u001b[0m\u001b[1;33m.\u001b[0m\u001b[0mfixes\u001b[0m \u001b[1;32mimport\u001b[0m \u001b[0mdelayed\u001b[0m\u001b[1;33m\u001b[0m\u001b[1;33m\u001b[0m\u001b[0m\n\u001b[0;32m     31\u001b[0m \u001b[1;32mfrom\u001b[0m \u001b[1;33m.\u001b[0m\u001b[1;33m.\u001b[0m\u001b[0mutils\u001b[0m\u001b[1;33m.\u001b[0m\u001b[0mmetaestimators\u001b[0m \u001b[1;32mimport\u001b[0m \u001b[0m_safe_split\u001b[0m\u001b[1;33m\u001b[0m\u001b[1;33m\u001b[0m\u001b[0m\n\u001b[1;32m---> 32\u001b[1;33m \u001b[1;32mfrom\u001b[0m \u001b[1;33m.\u001b[0m\u001b[1;33m.\u001b[0m\u001b[0mmetrics\u001b[0m \u001b[1;32mimport\u001b[0m \u001b[0mcheck_scoring\u001b[0m\u001b[1;33m\u001b[0m\u001b[1;33m\u001b[0m\u001b[0m\n\u001b[0m\u001b[0;32m     33\u001b[0m \u001b[1;32mfrom\u001b[0m \u001b[1;33m.\u001b[0m\u001b[1;33m.\u001b[0m\u001b[0mmetrics\u001b[0m\u001b[1;33m.\u001b[0m\u001b[0m_scorer\u001b[0m \u001b[1;32mimport\u001b[0m \u001b[0m_check_multimetric_scoring\u001b[0m\u001b[1;33m,\u001b[0m \u001b[0m_MultimetricScorer\u001b[0m\u001b[1;33m\u001b[0m\u001b[1;33m\u001b[0m\u001b[0m\n\u001b[0;32m     34\u001b[0m \u001b[1;32mfrom\u001b[0m \u001b[1;33m.\u001b[0m\u001b[1;33m.\u001b[0m\u001b[0mexceptions\u001b[0m \u001b[1;32mimport\u001b[0m \u001b[0mFitFailedWarning\u001b[0m\u001b[1;33m\u001b[0m\u001b[1;33m\u001b[0m\u001b[0m\n",
      "\u001b[1;32m~\\anaconda3\\lib\\site-packages\\sklearn\\metrics\\__init__.py\u001b[0m in \u001b[0;36m<module>\u001b[1;34m\u001b[0m\n\u001b[0;32m     39\u001b[0m \u001b[1;32mfrom\u001b[0m \u001b[1;33m.\u001b[0m\u001b[0m_dist_metrics\u001b[0m \u001b[1;32mimport\u001b[0m \u001b[0mDistanceMetric\u001b[0m\u001b[1;33m\u001b[0m\u001b[1;33m\u001b[0m\u001b[0m\n\u001b[0;32m     40\u001b[0m \u001b[1;33m\u001b[0m\u001b[0m\n\u001b[1;32m---> 41\u001b[1;33m \u001b[1;32mfrom\u001b[0m \u001b[1;33m.\u001b[0m \u001b[1;32mimport\u001b[0m \u001b[0mcluster\u001b[0m\u001b[1;33m\u001b[0m\u001b[1;33m\u001b[0m\u001b[0m\n\u001b[0m\u001b[0;32m     42\u001b[0m \u001b[1;32mfrom\u001b[0m \u001b[1;33m.\u001b[0m\u001b[0mcluster\u001b[0m \u001b[1;32mimport\u001b[0m \u001b[0madjusted_mutual_info_score\u001b[0m\u001b[1;33m\u001b[0m\u001b[1;33m\u001b[0m\u001b[0m\n\u001b[0;32m     43\u001b[0m \u001b[1;32mfrom\u001b[0m \u001b[1;33m.\u001b[0m\u001b[0mcluster\u001b[0m \u001b[1;32mimport\u001b[0m \u001b[0madjusted_rand_score\u001b[0m\u001b[1;33m\u001b[0m\u001b[1;33m\u001b[0m\u001b[0m\n",
      "\u001b[1;32m~\\anaconda3\\lib\\site-packages\\sklearn\\metrics\\cluster\\__init__.py\u001b[0m in \u001b[0;36m<module>\u001b[1;34m\u001b[0m\n\u001b[0;32m     20\u001b[0m \u001b[1;32mfrom\u001b[0m \u001b[1;33m.\u001b[0m\u001b[0m_supervised\u001b[0m \u001b[1;32mimport\u001b[0m \u001b[0mfowlkes_mallows_score\u001b[0m\u001b[1;33m\u001b[0m\u001b[1;33m\u001b[0m\u001b[0m\n\u001b[0;32m     21\u001b[0m \u001b[1;32mfrom\u001b[0m \u001b[1;33m.\u001b[0m\u001b[0m_supervised\u001b[0m \u001b[1;32mimport\u001b[0m \u001b[0mentropy\u001b[0m\u001b[1;33m\u001b[0m\u001b[1;33m\u001b[0m\u001b[0m\n\u001b[1;32m---> 22\u001b[1;33m \u001b[1;32mfrom\u001b[0m \u001b[1;33m.\u001b[0m\u001b[0m_unsupervised\u001b[0m \u001b[1;32mimport\u001b[0m \u001b[0msilhouette_samples\u001b[0m\u001b[1;33m\u001b[0m\u001b[1;33m\u001b[0m\u001b[0m\n\u001b[0m\u001b[0;32m     23\u001b[0m \u001b[1;32mfrom\u001b[0m \u001b[1;33m.\u001b[0m\u001b[0m_unsupervised\u001b[0m \u001b[1;32mimport\u001b[0m \u001b[0msilhouette_score\u001b[0m\u001b[1;33m\u001b[0m\u001b[1;33m\u001b[0m\u001b[0m\n\u001b[0;32m     24\u001b[0m \u001b[1;32mfrom\u001b[0m \u001b[1;33m.\u001b[0m\u001b[0m_unsupervised\u001b[0m \u001b[1;32mimport\u001b[0m \u001b[0mcalinski_harabasz_score\u001b[0m\u001b[1;33m\u001b[0m\u001b[1;33m\u001b[0m\u001b[0m\n",
      "\u001b[1;32m~\\anaconda3\\lib\\site-packages\\sklearn\\metrics\\cluster\\_unsupervised.py\u001b[0m in \u001b[0;36m<module>\u001b[1;34m\u001b[0m\n\u001b[0;32m     14\u001b[0m \u001b[1;32mfrom\u001b[0m \u001b[1;33m...\u001b[0m\u001b[0mutils\u001b[0m \u001b[1;32mimport\u001b[0m \u001b[0mcheck_X_y\u001b[0m\u001b[1;33m\u001b[0m\u001b[1;33m\u001b[0m\u001b[0m\n\u001b[0;32m     15\u001b[0m \u001b[1;32mfrom\u001b[0m \u001b[1;33m...\u001b[0m\u001b[0mutils\u001b[0m \u001b[1;32mimport\u001b[0m \u001b[0m_safe_indexing\u001b[0m\u001b[1;33m\u001b[0m\u001b[1;33m\u001b[0m\u001b[0m\n\u001b[1;32m---> 16\u001b[1;33m \u001b[1;32mfrom\u001b[0m \u001b[1;33m.\u001b[0m\u001b[1;33m.\u001b[0m\u001b[0mpairwise\u001b[0m \u001b[1;32mimport\u001b[0m \u001b[0mpairwise_distances_chunked\u001b[0m\u001b[1;33m\u001b[0m\u001b[1;33m\u001b[0m\u001b[0m\n\u001b[0m\u001b[0;32m     17\u001b[0m \u001b[1;32mfrom\u001b[0m \u001b[1;33m.\u001b[0m\u001b[1;33m.\u001b[0m\u001b[0mpairwise\u001b[0m \u001b[1;32mimport\u001b[0m \u001b[0mpairwise_distances\u001b[0m\u001b[1;33m\u001b[0m\u001b[1;33m\u001b[0m\u001b[0m\n\u001b[0;32m     18\u001b[0m \u001b[1;32mfrom\u001b[0m \u001b[1;33m...\u001b[0m\u001b[0mpreprocessing\u001b[0m \u001b[1;32mimport\u001b[0m \u001b[0mLabelEncoder\u001b[0m\u001b[1;33m\u001b[0m\u001b[1;33m\u001b[0m\u001b[0m\n",
      "\u001b[1;32m~\\anaconda3\\lib\\site-packages\\sklearn\\metrics\\pairwise.py\u001b[0m in \u001b[0;36m<module>\u001b[1;34m\u001b[0m\n\u001b[0;32m     31\u001b[0m \u001b[1;32mfrom\u001b[0m \u001b[1;33m.\u001b[0m\u001b[1;33m.\u001b[0m\u001b[0mutils\u001b[0m\u001b[1;33m.\u001b[0m\u001b[0mfixes\u001b[0m \u001b[1;32mimport\u001b[0m \u001b[0msp_version\u001b[0m\u001b[1;33m,\u001b[0m \u001b[0mparse_version\u001b[0m\u001b[1;33m\u001b[0m\u001b[1;33m\u001b[0m\u001b[0m\n\u001b[0;32m     32\u001b[0m \u001b[1;33m\u001b[0m\u001b[0m\n\u001b[1;32m---> 33\u001b[1;33m \u001b[1;32mfrom\u001b[0m \u001b[1;33m.\u001b[0m\u001b[0m_pairwise_distances_reduction\u001b[0m \u001b[1;32mimport\u001b[0m \u001b[0mPairwiseDistancesArgKmin\u001b[0m\u001b[1;33m\u001b[0m\u001b[1;33m\u001b[0m\u001b[0m\n\u001b[0m\u001b[0;32m     34\u001b[0m \u001b[1;32mfrom\u001b[0m \u001b[1;33m.\u001b[0m\u001b[0m_pairwise_fast\u001b[0m \u001b[1;32mimport\u001b[0m \u001b[0m_chi2_kernel_fast\u001b[0m\u001b[1;33m,\u001b[0m \u001b[0m_sparse_manhattan\u001b[0m\u001b[1;33m\u001b[0m\u001b[1;33m\u001b[0m\u001b[0m\n\u001b[0;32m     35\u001b[0m \u001b[1;32mfrom\u001b[0m \u001b[1;33m.\u001b[0m\u001b[1;33m.\u001b[0m\u001b[0mexceptions\u001b[0m \u001b[1;32mimport\u001b[0m \u001b[0mDataConversionWarning\u001b[0m\u001b[1;33m\u001b[0m\u001b[1;33m\u001b[0m\u001b[0m\n",
      "\u001b[1;32msklearn\\metrics\\_pairwise_distances_reduction.pyx\u001b[0m in \u001b[0;36minit sklearn.metrics._pairwise_distances_reduction\u001b[1;34m()\u001b[0m\n",
      "\u001b[1;31mAttributeError\u001b[0m: module 'sklearn.utils._openmp_helpers' has no attribute '__pyx_capi__'"
     ]
    }
   ],
   "source": [
    "import pandas as pd\n",
    "import numpy as np\n",
    "import matplotlib.pyplot as plt\n",
    "import seaborn as sns\n",
    "import warnings\n",
    "warnings.simplefilter(\"ignore\")\n",
    "warnings.filterwarnings(\"ignore\")\n",
    "import joblib\n",
    "\n",
    "%matplotlib inline\n",
    "from scipy.stats import zscore\n",
    "\n",
    "from sklearn.preprocessing import LabelEncoder\n",
    "from sklearn.preprocessing import OrdinalEncoder\n",
    "from sklearn.preprocessing import StandardScaler\n",
    "from sklearn.model_selection import train_test_split\n",
    "from sklearn.linear_model import LogisticRegression\n",
    "from sklearn.svm import SVC\n",
    "from sklearn.tree import DecisionTreeClassifier\n",
    "from sklearn.ensemble import RandomForestClassifier\n",
    "from sklearn.ensemble import ExtraTreesClassifier\n",
    "from sklearn.neighbors import KNeighborsClassifier\n",
    "import xgboost as xgb\n",
    "\n",
    "from sklearn import metrics\n",
    "from sklearn.metrics import classification_report\n",
    "from sklearn.metrics import accuracy_score\n",
    "from sklearn.model_selection import cross_val_score\n",
    "from sklearn.model_selection import GridSearchCV\n",
    "\n",
    "from sklearn.metrics import confusion_matrix, average_precision_score, classification_report\n",
    "from sklearn.model_selection import cross_val_predict, train_test_split, StratifiedKFold, RandomizedSearchCV\n",
    "from sklearn.ensemble import RandomForestClassifier, VotingClassifier\n",
    "from sklearn.linear_model import LogisticRegression\n",
    "from sklearn.feature_selection import RFECV\n",
    "import xgboost as xgb\n",
    "from collections import Counter\n",
    "\n",
    "from sklearn.preprocessing import RobustScaler, MinMaxScaler\n",
    "from scipy.stats import boxcox \n",
    "\n",
    "from sklearn.decomposition import PCA"
   ]
  },
  {
   "cell_type": "code",
   "execution_count": null,
   "id": "ea7c00e2",
   "metadata": {},
   "outputs": [],
   "source": [
    "df=pd.read_csv('C:/Users/MohitLewis/Downloads/WA_Fn-UseC_-HR-Employee-Attrition.csv')\n",
    "df"
   ]
  },
  {
   "cell_type": "code",
   "execution_count": null,
   "id": "d80bf692",
   "metadata": {},
   "outputs": [],
   "source": [
    "df.head()"
   ]
  },
  {
   "cell_type": "code",
   "execution_count": null,
   "id": "8708c65c",
   "metadata": {},
   "outputs": [],
   "source": [
    "df.tail()"
   ]
  },
  {
   "cell_type": "code",
   "execution_count": null,
   "id": "fd957da4",
   "metadata": {},
   "outputs": [],
   "source": [
    "df.shape"
   ]
  },
  {
   "cell_type": "markdown",
   "id": "c2d8edc4",
   "metadata": {},
   "source": [
    "# EDA ANALYSIS"
   ]
  },
  {
   "cell_type": "code",
   "execution_count": null,
   "id": "399e5b8d",
   "metadata": {},
   "outputs": [],
   "source": [
    "df.columns"
   ]
  },
  {
   "cell_type": "code",
   "execution_count": null,
   "id": "85f9ab0d",
   "metadata": {},
   "outputs": [],
   "source": [
    "df.columns.to_series().groupby(df.dtypes).groups"
   ]
  },
  {
   "cell_type": "code",
   "execution_count": null,
   "id": "8c0f1b79",
   "metadata": {},
   "outputs": [],
   "source": [
    "df.info()"
   ]
  },
  {
   "cell_type": "code",
   "execution_count": null,
   "id": "6503d94e",
   "metadata": {},
   "outputs": [],
   "source": [
    "df.describe().T"
   ]
  },
  {
   "cell_type": "code",
   "execution_count": null,
   "id": "787f1f25",
   "metadata": {},
   "outputs": [],
   "source": [
    "df.describe(include='O').T"
   ]
  },
  {
   "cell_type": "code",
   "execution_count": null,
   "id": "5441d50f",
   "metadata": {},
   "outputs": [],
   "source": [
    "df.isnull().sum()"
   ]
  },
  {
   "cell_type": "code",
   "execution_count": null,
   "id": "aceef12f",
   "metadata": {},
   "outputs": [],
   "source": [
    "df.nunique()"
   ]
  },
  {
   "cell_type": "code",
   "execution_count": null,
   "id": "d7ccd86f",
   "metadata": {},
   "outputs": [],
   "source": [
    "df[df.duplicated()]"
   ]
  },
  {
   "cell_type": "code",
   "execution_count": null,
   "id": "8ef0a27c",
   "metadata": {},
   "outputs": [],
   "source": [
    "df.duplicated().sum()"
   ]
  },
  {
   "cell_type": "code",
   "execution_count": null,
   "id": "768e8f04",
   "metadata": {},
   "outputs": [],
   "source": [
    "#check statistical properties of your data\n",
    "df.describe()"
   ]
  },
  {
   "cell_type": "code",
   "execution_count": null,
   "id": "4065aab9",
   "metadata": {},
   "outputs": [],
   "source": [
    "df.drop([\"EmployeeCount\", \"EmployeeNumber\", \"Over18\", \"StandardHours\"], axis=1, inplace=True)"
   ]
  },
  {
   "cell_type": "code",
   "execution_count": null,
   "id": "20b317ba",
   "metadata": {},
   "outputs": [],
   "source": [
    "object_datatypes=[]\n",
    "for x in df.dtypes.index:\n",
    "    if df.dtypes[x]=='O':\n",
    "        object_datatypes.append(x)\n",
    "object_datatypes "
   ]
  },
  {
   "cell_type": "code",
   "execution_count": null,
   "id": "279bc3bd",
   "metadata": {},
   "outputs": [],
   "source": [
    "integer_datatypes=[]\n",
    "for x in df.dtypes.index:\n",
    "    if df.dtypes[x]=='int64':\n",
    "      integer_datatypes.append(x)\n",
    "integer_datatypes"
   ]
  },
  {
   "cell_type": "code",
   "execution_count": null,
   "id": "c24781d1",
   "metadata": {},
   "outputs": [],
   "source": [
    "df.nunique().to_frame(\"Unique values\")"
   ]
  },
  {
   "cell_type": "code",
   "execution_count": null,
   "id": "5d47ba2c",
   "metadata": {},
   "outputs": [],
   "source": [
    "for col in object_datatypes:\n",
    "    print(col)\n",
    "    print(df[col].value_counts())\n",
    "    print(\"=\"*80)"
   ]
  },
  {
   "cell_type": "code",
   "execution_count": 200,
   "id": "8262cf59",
   "metadata": {},
   "outputs": [
    {
     "data": {
      "text/plain": [
       "0.000000    1233\n",
       "0.693147     237\n",
       "Name: Attrition, dtype: int64"
      ]
     },
     "execution_count": 200,
     "metadata": {},
     "output_type": "execute_result"
    }
   ],
   "source": [
    "# check our target Is balanced or imbalanced data ?\n",
    "df['Attrition'].value_counts()"
   ]
  },
  {
   "cell_type": "markdown",
   "id": "65cbbf1c",
   "metadata": {},
   "source": [
    "# Visualization"
   ]
  },
  {
   "cell_type": "code",
   "execution_count": 201,
   "id": "6a76e44c",
   "metadata": {},
   "outputs": [
    {
     "data": {
      "image/png": "[encoded data removed]",
      "text/plain": [
       "<Figure size 1440x1440 with 25 Axes>"
      ]
     },
     "metadata": {
      "needs_background": "light"
     },
     "output_type": "display_data"
    }
   ],
   "source": [
    "# Let's see the distrubtion of all numeric variables\n",
    "# Plotting the numerical variables in histograms to see their distribution.\n",
    "df.hist(figsize=(20,20))\n",
    "plt.show()"
   ]
  },
  {
   "cell_type": "code",
   "execution_count": 202,
   "id": "17ef365f",
   "metadata": {},
   "outputs": [
    {
     "name": "stdout",
     "output_type": "stream",
     "text": [
      "0.000000    1233\n",
      "0.693147     237\n",
      "Name: Attrition, dtype: int64\n"
     ]
    },
    {
     "data": {
      "image/png": "[encoded data removed]",
      "text/plain": [
       "<Figure size 432x288 with 1 Axes>"
      ]
     },
     "metadata": {},
     "output_type": "display_data"
    }
   ],
   "source": [
    "# we will encoding our target:\n",
    "# 1 ---> 'Yes'\n",
    "# 0 ---> 'No'\n",
    "df['Attrition'].replace(\"No\" , 0 , inplace = True)\n",
    "df['Attrition'].replace(\"Yes\" , 1 , inplace = True)\n",
    "df['Attrition'].value_counts().plot(kind='pie',explode=[0.1,0.1],autopct='%1.1f%%',shadow=True,colors=['c','r'])\n",
    "print(df['Attrition'].value_counts())"
   ]
  },
  {
   "cell_type": "code",
   "execution_count": 203,
   "id": "d394c9f2",
   "metadata": {},
   "outputs": [
    {
     "ename": "KeyError",
     "evalue": "'0.0'",
     "output_type": "error",
     "traceback": [
      "\u001b[1;31m---------------------------------------------------------------------------\u001b[0m",
      "\u001b[1;31mTypeError\u001b[0m                                 Traceback (most recent call last)",
      "\u001b[1;32m~\\anaconda3\\lib\\site-packages\\pandas\\_libs\\index.pyx\u001b[0m in \u001b[0;36mpandas._libs.index.IndexEngine.get_loc\u001b[1;34m()\u001b[0m\n",
      "\u001b[1;32mpandas\\_libs\\hashtable_class_helper.pxi\u001b[0m in \u001b[0;36mpandas._libs.hashtable.Float64HashTable.get_item\u001b[1;34m()\u001b[0m\n",
      "\u001b[1;31mTypeError\u001b[0m: must be real number, not str",
      "\nDuring handling of the above exception, another exception occurred:\n",
      "\u001b[1;31mKeyError\u001b[0m                                  Traceback (most recent call last)",
      "\u001b[1;32m~\\anaconda3\\lib\\site-packages\\pandas\\core\\indexes\\base.py\u001b[0m in \u001b[0;36mget_loc\u001b[1;34m(self, key, method, tolerance)\u001b[0m\n\u001b[0;32m   3360\u001b[0m             \u001b[1;32mtry\u001b[0m\u001b[1;33m:\u001b[0m\u001b[1;33m\u001b[0m\u001b[1;33m\u001b[0m\u001b[0m\n\u001b[1;32m-> 3361\u001b[1;33m                 \u001b[1;32mreturn\u001b[0m \u001b[0mself\u001b[0m\u001b[1;33m.\u001b[0m\u001b[0m_engine\u001b[0m\u001b[1;33m.\u001b[0m\u001b[0mget_loc\u001b[0m\u001b[1;33m(\u001b[0m\u001b[0mcasted_key\u001b[0m\u001b[1;33m)\u001b[0m\u001b[1;33m\u001b[0m\u001b[1;33m\u001b[0m\u001b[0m\n\u001b[0m\u001b[0;32m   3362\u001b[0m             \u001b[1;32mexcept\u001b[0m \u001b[0mKeyError\u001b[0m \u001b[1;32mas\u001b[0m \u001b[0merr\u001b[0m\u001b[1;33m:\u001b[0m\u001b[1;33m\u001b[0m\u001b[1;33m\u001b[0m\u001b[0m\n",
      "\u001b[1;32m~\\anaconda3\\lib\\site-packages\\pandas\\_libs\\index.pyx\u001b[0m in \u001b[0;36mpandas._libs.index.IndexEngine.get_loc\u001b[1;34m()\u001b[0m\n",
      "\u001b[1;32m~\\anaconda3\\lib\\site-packages\\pandas\\_libs\\index.pyx\u001b[0m in \u001b[0;36mpandas._libs.index.IndexEngine.get_loc\u001b[1;34m()\u001b[0m\n",
      "\u001b[1;31mKeyError\u001b[0m: '0.0'",
      "\nThe above exception was the direct cause of the following exception:\n",
      "\u001b[1;31mKeyError\u001b[0m                                  Traceback (most recent call last)",
      "\u001b[1;32mC:\\Users\\MOHITL~1\\AppData\\Local\\Temp/ipykernel_5488/1183163382.py\u001b[0m in \u001b[0;36m<module>\u001b[1;34m\u001b[0m\n\u001b[0;32m      6\u001b[0m \u001b[1;33m\u001b[0m\u001b[0m\n\u001b[0;32m      7\u001b[0m \u001b[1;32mfor\u001b[0m \u001b[0mi\u001b[0m \u001b[1;32min\u001b[0m \u001b[0max\u001b[0m\u001b[1;33m.\u001b[0m\u001b[0mget_xticklabels\u001b[0m\u001b[1;33m(\u001b[0m\u001b[1;33m)\u001b[0m\u001b[1;33m:\u001b[0m\u001b[1;33m\u001b[0m\u001b[1;33m\u001b[0m\u001b[0m\n\u001b[1;32m----> 8\u001b[1;33m     ax.text(index, values[i.get_text()]/2, values[i.get_text()], \n\u001b[0m\u001b[0;32m      9\u001b[0m             horizontalalignment=\"center\", fontweight='bold', color='w')\n\u001b[0;32m     10\u001b[0m     \u001b[0mindex\u001b[0m \u001b[1;33m+=\u001b[0m \u001b[1;36m1\u001b[0m\u001b[1;33m\u001b[0m\u001b[1;33m\u001b[0m\u001b[0m\n",
      "\u001b[1;32m~\\anaconda3\\lib\\site-packages\\pandas\\core\\series.py\u001b[0m in \u001b[0;36m__getitem__\u001b[1;34m(self, key)\u001b[0m\n\u001b[0;32m    940\u001b[0m \u001b[1;33m\u001b[0m\u001b[0m\n\u001b[0;32m    941\u001b[0m         \u001b[1;32melif\u001b[0m \u001b[0mkey_is_scalar\u001b[0m\u001b[1;33m:\u001b[0m\u001b[1;33m\u001b[0m\u001b[1;33m\u001b[0m\u001b[0m\n\u001b[1;32m--> 942\u001b[1;33m             \u001b[1;32mreturn\u001b[0m \u001b[0mself\u001b[0m\u001b[1;33m.\u001b[0m\u001b[0m_get_value\u001b[0m\u001b[1;33m(\u001b[0m\u001b[0mkey\u001b[0m\u001b[1;33m)\u001b[0m\u001b[1;33m\u001b[0m\u001b[1;33m\u001b[0m\u001b[0m\n\u001b[0m\u001b[0;32m    943\u001b[0m \u001b[1;33m\u001b[0m\u001b[0m\n\u001b[0;32m    944\u001b[0m         \u001b[1;32mif\u001b[0m \u001b[0mis_hashable\u001b[0m\u001b[1;33m(\u001b[0m\u001b[0mkey\u001b[0m\u001b[1;33m)\u001b[0m\u001b[1;33m:\u001b[0m\u001b[1;33m\u001b[0m\u001b[1;33m\u001b[0m\u001b[0m\n",
      "\u001b[1;32m~\\anaconda3\\lib\\site-packages\\pandas\\core\\series.py\u001b[0m in \u001b[0;36m_get_value\u001b[1;34m(self, label, takeable)\u001b[0m\n\u001b[0;32m   1049\u001b[0m \u001b[1;33m\u001b[0m\u001b[0m\n\u001b[0;32m   1050\u001b[0m         \u001b[1;31m# Similar to Index.get_value, but we do not fall back to positional\u001b[0m\u001b[1;33m\u001b[0m\u001b[1;33m\u001b[0m\u001b[0m\n\u001b[1;32m-> 1051\u001b[1;33m         \u001b[0mloc\u001b[0m \u001b[1;33m=\u001b[0m \u001b[0mself\u001b[0m\u001b[1;33m.\u001b[0m\u001b[0mindex\u001b[0m\u001b[1;33m.\u001b[0m\u001b[0mget_loc\u001b[0m\u001b[1;33m(\u001b[0m\u001b[0mlabel\u001b[0m\u001b[1;33m)\u001b[0m\u001b[1;33m\u001b[0m\u001b[1;33m\u001b[0m\u001b[0m\n\u001b[0m\u001b[0;32m   1052\u001b[0m         \u001b[1;32mreturn\u001b[0m \u001b[0mself\u001b[0m\u001b[1;33m.\u001b[0m\u001b[0mindex\u001b[0m\u001b[1;33m.\u001b[0m\u001b[0m_get_values_for_loc\u001b[0m\u001b[1;33m(\u001b[0m\u001b[0mself\u001b[0m\u001b[1;33m,\u001b[0m \u001b[0mloc\u001b[0m\u001b[1;33m,\u001b[0m \u001b[0mlabel\u001b[0m\u001b[1;33m)\u001b[0m\u001b[1;33m\u001b[0m\u001b[1;33m\u001b[0m\u001b[0m\n\u001b[0;32m   1053\u001b[0m \u001b[1;33m\u001b[0m\u001b[0m\n",
      "\u001b[1;32m~\\anaconda3\\lib\\site-packages\\pandas\\core\\indexes\\base.py\u001b[0m in \u001b[0;36mget_loc\u001b[1;34m(self, key, method, tolerance)\u001b[0m\n\u001b[0;32m   3361\u001b[0m                 \u001b[1;32mreturn\u001b[0m \u001b[0mself\u001b[0m\u001b[1;33m.\u001b[0m\u001b[0m_engine\u001b[0m\u001b[1;33m.\u001b[0m\u001b[0mget_loc\u001b[0m\u001b[1;33m(\u001b[0m\u001b[0mcasted_key\u001b[0m\u001b[1;33m)\u001b[0m\u001b[1;33m\u001b[0m\u001b[1;33m\u001b[0m\u001b[0m\n\u001b[0;32m   3362\u001b[0m             \u001b[1;32mexcept\u001b[0m \u001b[0mKeyError\u001b[0m \u001b[1;32mas\u001b[0m \u001b[0merr\u001b[0m\u001b[1;33m:\u001b[0m\u001b[1;33m\u001b[0m\u001b[1;33m\u001b[0m\u001b[0m\n\u001b[1;32m-> 3363\u001b[1;33m                 \u001b[1;32mraise\u001b[0m \u001b[0mKeyError\u001b[0m\u001b[1;33m(\u001b[0m\u001b[0mkey\u001b[0m\u001b[1;33m)\u001b[0m \u001b[1;32mfrom\u001b[0m \u001b[0merr\u001b[0m\u001b[1;33m\u001b[0m\u001b[1;33m\u001b[0m\u001b[0m\n\u001b[0m\u001b[0;32m   3364\u001b[0m \u001b[1;33m\u001b[0m\u001b[0m\n\u001b[0;32m   3365\u001b[0m         \u001b[1;32mif\u001b[0m \u001b[0mis_scalar\u001b[0m\u001b[1;33m(\u001b[0m\u001b[0mkey\u001b[0m\u001b[1;33m)\u001b[0m \u001b[1;32mand\u001b[0m \u001b[0misna\u001b[0m\u001b[1;33m(\u001b[0m\u001b[0mkey\u001b[0m\u001b[1;33m)\u001b[0m \u001b[1;32mand\u001b[0m \u001b[1;32mnot\u001b[0m \u001b[0mself\u001b[0m\u001b[1;33m.\u001b[0m\u001b[0mhasnans\u001b[0m\u001b[1;33m:\u001b[0m\u001b[1;33m\u001b[0m\u001b[1;33m\u001b[0m\u001b[0m\n",
      "\u001b[1;31mKeyError\u001b[0m: '0.0'"
     ]
    },
    {
     "data": {
      "image/png": "[encoded data removed]",
      "text/plain": [
       "<Figure size 576x360 with 1 Axes>"
      ]
     },
     "metadata": {
      "needs_background": "light"
     },
     "output_type": "display_data"
    }
   ],
   "source": [
    "plt.figure(figsize=(8,5))\n",
    "col_name = 'Attrition'\n",
    "values = df[col_name].value_counts()\n",
    "index = 0\n",
    "ax = sns.countplot(df[col_name], palette=\"mako\")\n",
    "\n",
    "for i in ax.get_xticklabels():\n",
    "    ax.text(index, values[i.get_text()]/2, values[i.get_text()], \n",
    "            horizontalalignment=\"center\", fontweight='bold', color='w')\n",
    "    index += 1\n",
    "    \n",
    "plt.title(f\"Count Plot for {col_name}\\n\")\n",
    "plt.ylabel(f\"Number of rows\")\n",
    "plt.xticks(rotation=90)\n",
    "plt.show()\n"
   ]
  },
  {
   "cell_type": "code",
   "execution_count": null,
   "id": "6a86a76d",
   "metadata": {},
   "outputs": [],
   "source": [
    "plt.figure(figsize=(8,5))\n",
    "col_name = 'Gender'\n",
    "values = df[col_name].value_counts()\n",
    "index = 0\n",
    "ax = sns.countplot(df[col_name], palette=\"mako\")\n",
    "\n",
    "for i in ax.get_xticklabels():\n",
    "    ax.text(index, values[i.get_text()]/2, values[i.get_text()], \n",
    "            horizontalalignment=\"center\", fontweight='bold', color='w')\n",
    "    index += 1\n",
    "    \n",
    "plt.title(f\"Count Plot for {col_name}\\n\")\n",
    "plt.ylabel(f\"Number of rows\")\n",
    "plt.xticks(rotation=90)\n",
    "plt.show()"
   ]
  },
  {
   "cell_type": "code",
   "execution_count": null,
   "id": "312881d3",
   "metadata": {},
   "outputs": [],
   "source": [
    "plt.figure(figsize=(8,5))\n",
    "col_name = 'OverTime'\n",
    "values = df[col_name].value_counts()\n",
    "index = 0\n",
    "ax = sns.countplot(df[col_name], palette=\"mako\")\n",
    "\n",
    "for i in ax.get_xticklabels():\n",
    "    ax.text(index, values[i.get_text()]/2, values[i.get_text()], \n",
    "            horizontalalignment=\"center\", fontweight='bold', color='w')\n",
    "    index += 1\n",
    "    \n",
    "plt.title(f\"Count Plot for {col_name}\\n\")\n",
    "plt.ylabel(f\"Number of rows\")\n",
    "plt.xticks(rotation=90)\n",
    "plt.show()"
   ]
  },
  {
   "cell_type": "code",
   "execution_count": null,
   "id": "6c86f4a2",
   "metadata": {},
   "outputs": [],
   "source": [
    "plt.figure(figsize=(8,5))\n",
    "col_name = 'BusinessTravel'\n",
    "values = df[col_name].value_counts()\n",
    "index = 0\n",
    "ax = sns.countplot(df[col_name], palette=\"mako\")\n",
    "\n",
    "for i in ax.get_xticklabels():\n",
    "    ax.text(index, values[i.get_text()]/2, values[i.get_text()], \n",
    "            horizontalalignment=\"center\", fontweight='bold', color='w')\n",
    "    index += 1\n",
    "    \n",
    "plt.title(f\"Count Plot for {col_name}\\n\")\n",
    "plt.ylabel(f\"Number of rows\")\n",
    "plt.xticks(rotation=90)\n",
    "plt.show()"
   ]
  },
  {
   "cell_type": "code",
   "execution_count": null,
   "id": "38f2daac",
   "metadata": {},
   "outputs": [],
   "source": [
    "plt.figure(figsize=(8,5))\n",
    "col_name = 'Department'\n",
    "values = df[col_name].value_counts()\n",
    "index = 0\n",
    "ax = sns.countplot(df[col_name], palette=\"mako\")\n",
    "\n",
    "for i in ax.get_xticklabels():\n",
    "    ax.text(index, values[i.get_text()]/2, values[i.get_text()], \n",
    "            horizontalalignment=\"center\", fontweight='bold', color='w')\n",
    "    index += 1\n",
    "    \n",
    "plt.title(f\"Count Plot for {col_name}\\n\")\n",
    "plt.ylabel(f\"Number of rows\")\n",
    "plt.xticks(rotation=90)\n",
    "plt.show()"
   ]
  },
  {
   "cell_type": "code",
   "execution_count": null,
   "id": "d654ffeb",
   "metadata": {},
   "outputs": [],
   "source": [
    "plt.figure(figsize=(8,5))\n",
    "col_name = 'MaritalStatus'\n",
    "values = df[col_name].value_counts()\n",
    "index = 0\n",
    "ax = sns.countplot(df[col_name], palette=\"mako\")\n",
    "\n",
    "for i in ax.get_xticklabels():\n",
    "    ax.text(index, values[i.get_text()]/2, values[i.get_text()], \n",
    "            horizontalalignment=\"center\", fontweight='bold', color='w')\n",
    "    index += 1\n",
    "    \n",
    "plt.title(f\"Count Plot for {col_name}\\n\")\n",
    "plt.ylabel(f\"Number of rows\")\n",
    "plt.xticks(rotation=90)\n",
    "plt.show()"
   ]
  },
  {
   "cell_type": "code",
   "execution_count": null,
   "id": "1105fa6c",
   "metadata": {},
   "outputs": [],
   "source": [
    "plt.figure(figsize=(8,5))\n",
    "col_name = 'EducationField'\n",
    "values = df[col_name].value_counts()\n",
    "index = 0\n",
    "ax = sns.countplot(df[col_name], palette=\"mako\")\n",
    "\n",
    "for i in ax.get_xticklabels():\n",
    "    ax.text(index, values[i.get_text()]/2, values[i.get_text()], \n",
    "            horizontalalignment=\"center\", fontweight='bold', color='w')\n",
    "    index += 1\n",
    "    \n",
    "plt.title(f\"Count Plot for {col_name}\\n\")\n",
    "plt.ylabel(f\"Number of rows\")\n",
    "plt.xticks(rotation=90)\n",
    "plt.show()"
   ]
  },
  {
   "cell_type": "code",
   "execution_count": null,
   "id": "7b0df6e4",
   "metadata": {},
   "outputs": [],
   "source": [
    "plt.figure(figsize=(8,5))\n",
    "col_name = 'JobRole'\n",
    "values = df[col_name].value_counts()\n",
    "index = 0\n",
    "ax = sns.countplot(df[col_name], palette=\"mako\")\n",
    "\n",
    "for i in ax.get_xticklabels():\n",
    "    ax.text(index, values[i.get_text()]/2, values[i.get_text()], \n",
    "            horizontalalignment=\"center\", fontweight='bold', color='w')\n",
    "    index += 1\n",
    "    \n",
    "plt.title(f\"Count Plot for {col_name}\\n\")\n",
    "plt.ylabel(f\"Number of rows\")\n",
    "plt.xticks(rotation=90)\n",
    "plt.show()"
   ]
  },
  {
   "cell_type": "code",
   "execution_count": null,
   "id": "b90a15ff",
   "metadata": {},
   "outputs": [],
   "source": [
    "sns.barplot(x='YearsAtCompany',y='MonthlyIncome',data=df)"
   ]
  },
  {
   "cell_type": "code",
   "execution_count": null,
   "id": "1abb7139",
   "metadata": {},
   "outputs": [],
   "source": [
    "df.plot(x='YearsAtCompany',y='MonthlyIncome',kind='scatter')"
   ]
  },
  {
   "cell_type": "code",
   "execution_count": null,
   "id": "1ca86547",
   "metadata": {},
   "outputs": [],
   "source": [
    "sns.countplot(df['TotalWorkingYears'])\n"
   ]
  },
  {
   "cell_type": "code",
   "execution_count": null,
   "id": "3565bfe1",
   "metadata": {},
   "outputs": [],
   "source": [
    "# Plotting the categorical variables to see their distribution\n",
    "fig=plt.figure(figsize=(20,50))\n",
    "plt.style.use('seaborn-colorblind')\n",
    "for i in range(len((df.select_dtypes(include='object')).columns)):\n",
    "    fig.add_subplot(11,3,i+1)\n",
    "    df.select_dtypes(include='object').iloc[:,i].value_counts().plot(kind=\"pie\",  subplots=True,autopct='%1.1f%%',\n",
    "        shadow=True, startangle=180)"
   ]
  },
  {
   "cell_type": "markdown",
   "id": "b8febd8a",
   "metadata": {},
   "source": [
    "#  Effect of Gender 0n Attrition"
   ]
  },
  {
   "cell_type": "code",
   "execution_count": null,
   "id": "ca1cdebd",
   "metadata": {},
   "outputs": [],
   "source": [
    "plt.figure(figsize=(8,5))\n",
    "total = float(len(df))\n",
    "plt.subplot(1,2,1)\n",
    "ay=sns.countplot(x=\"Gender\",data=df)\n",
    "for p in ay.patches:\n",
    "    percentage = '{:.1f}%'.format(100 * p.get_height()/total)\n",
    "    x = p.get_x() + p.get_width()\n",
    "    y = p.get_height()\n",
    "    ay.annotate(percentage, (x, y),ha='right')\n",
    "plt.subplot(1,2,2)\n",
    "ax = sns.countplot(x=\"Gender\", hue=\"Attrition\", data=df)\n",
    "for p in ax.patches:\n",
    "    percentage = '{:.1f}%'.format(100 * p.get_height()/total)\n",
    "    x = p.get_x() + p.get_width()\n",
    "    y = p.get_height()\n",
    "    ax.annotate(percentage, (x, y),ha='right')"
   ]
  },
  {
   "cell_type": "markdown",
   "id": "3fd506c8",
   "metadata": {},
   "source": [
    "# Effect of the Distance from home on attrition "
   ]
  },
  {
   "cell_type": "code",
   "execution_count": null,
   "id": "3da81a8b",
   "metadata": {},
   "outputs": [],
   "source": [
    "plt.figure(figsize = (10 , 10))\n",
    "plt.subplot(2 ,1,1)\n",
    "sns.countplot(x= 'DistanceFromHome' ,data =df ,palette='winter_r')\n",
    "plt.title('DistanceFromHome')\n",
    "plt.subplot(2,1,2)\n",
    "sns.countplot(x= 'DistanceFromHome' ,data = df ,palette='winter_r'  ,hue =df['Attrition'])"
   ]
  },
  {
   "cell_type": "code",
   "execution_count": null,
   "id": "10e80ee9",
   "metadata": {},
   "outputs": [],
   "source": [
    "df_left=df[df[ 'Attrition']==1]['DistanceFromHome'] \n",
    "df_stay=df[df[ 'Attrition']==0]['DistanceFromHome'] \n",
    "\n",
    "sns.kdeplot(df_left, label = 'Employee left', shade = True, color = 'r' )\n",
    "sns.kdeplot(df_stay, label = 'Employee stay', shade = True, color = 'b')\n",
    "plt.legend()\n",
    "plt.show()"
   ]
  },
  {
   "cell_type": "markdown",
   "id": "56d3455f",
   "metadata": {},
   "source": [
    "# Effect of Age on attrition"
   ]
  },
  {
   "cell_type": "code",
   "execution_count": null,
   "id": "deede596",
   "metadata": {},
   "outputs": [],
   "source": [
    "plt.figure(figsize = (10, 10))\n",
    "sns.histplot(x = 'Age', hue = 'Attrition', data = df ,     kde=True )"
   ]
  },
  {
   "cell_type": "markdown",
   "id": "57237147",
   "metadata": {},
   "source": [
    "# Effect of Education on attrition "
   ]
  },
  {
   "cell_type": "code",
   "execution_count": null,
   "id": "2970d2a5",
   "metadata": {},
   "outputs": [],
   "source": [
    "plt.figure(figsize=(10,10))\n",
    "df['Education'] = df['Education'].replace([1,2,3,4,5],['Below College','College', 'Bachelor', 'Master', 'Doctor'])\n",
    "sns.countplot(x= 'Education' ,data =df ,palette='winter_r',hue='Attrition')\n",
    "plt.title('Education Vs Attrition')\n",
    "plt.show()"
   ]
  },
  {
   "cell_type": "markdown",
   "id": "24478ae4",
   "metadata": {},
   "source": [
    "# Effect of Education level on attrition"
   ]
  },
  {
   "cell_type": "code",
   "execution_count": null,
   "id": "b9e9bf8d",
   "metadata": {},
   "outputs": [],
   "source": [
    "plt.figure(figsize=(10,10))\n",
    "sns.countplot(x= 'EducationField' ,data =df ,palette='winter_r',hue='Attrition')\n",
    "plt.title('EducationField Vs Attrition')\n",
    "plt.show()"
   ]
  },
  {
   "cell_type": "markdown",
   "id": "a7c7cdbf",
   "metadata": {},
   "source": [
    "# Effect of MaritalStatus on attrition "
   ]
  },
  {
   "cell_type": "code",
   "execution_count": null,
   "id": "f64d5784",
   "metadata": {},
   "outputs": [],
   "source": [
    "a=sns.countplot(x= 'MaritalStatus' ,data =df ,palette='winter_r',hue='Attrition')\n",
    "plt.title('MaritalStatus Vs Attrition')\n",
    "for p in a.patches:\n",
    "    percentage = '{:.1f}%'.format(100 * p.get_height()/total)\n",
    "    x = p.get_x() + p.get_width()\n",
    "    y = p.get_height()\n",
    "    a.annotate(percentage, (x, y),ha='right')\n",
    "\n",
    "plt.show()"
   ]
  },
  {
   "cell_type": "markdown",
   "id": "61d05248",
   "metadata": {},
   "source": [
    "# Effect of Department on attrition "
   ]
  },
  {
   "cell_type": "code",
   "execution_count": null,
   "id": "58d76042",
   "metadata": {},
   "outputs": [],
   "source": [
    "plt.figure(figsize = (10 , 10))\n",
    "plt.subplot(2 ,1,1)\n",
    "q=sns.countplot(x= 'Department' ,data = df ,palette='Set2',)\n",
    "plt.title('Departments')\n",
    "for p in q.patches:\n",
    "    percentage = '{:.1f}%'.format(100 * p.get_height()/total)\n",
    "    x = p.get_x() + p.get_width()\n",
    "    y = p.get_height()\n",
    "    q.annotate(percentage, (x, y),ha='right')\n",
    "plt.subplot(2,1,2)\n",
    "u=sns.countplot(x= 'Department' ,data = df ,palette='Set2'  ,hue =df['Attrition'])\n",
    "for p in u.patches:\n",
    "    percentage = '{:.1f}%'.format(100 * p.get_height()/total)\n",
    "    x = p.get_x() + p.get_width()\n",
    "    y = p.get_height()\n",
    "    #u.annotate(percentage, (x, y),ha='left')\n",
    "    u.annotate(y,(x,y),ha='left')\n",
    "plt.show()"
   ]
  },
  {
   "cell_type": "markdown",
   "id": "d6d2ee8e",
   "metadata": {},
   "source": [
    "# Effect of job role on attrition"
   ]
  },
  {
   "cell_type": "code",
   "execution_count": null,
   "id": "a4ba6923",
   "metadata": {},
   "outputs": [],
   "source": [
    "plt.figure(figsize = (10 , 13))\n",
    "plt.subplot(2 ,1,1)\n",
    "sns.countplot(y= 'JobRole' ,data =df ,palette='winter_r')\n",
    "plt.title('JOB ROLE')\n",
    "plt.subplot(2,1,2)\n",
    "sns.countplot(y= 'JobRole' ,data = df ,palette='winter_r'  ,hue =df['Attrition'])"
   ]
  },
  {
   "cell_type": "markdown",
   "id": "e4af0ab4",
   "metadata": {},
   "source": [
    "# Effect of OverTime on attrition"
   ]
  },
  {
   "cell_type": "code",
   "execution_count": null,
   "id": "1b50a941",
   "metadata": {},
   "outputs": [],
   "source": [
    "plt.figure(figsize = (10 , 10))\n",
    "plt.subplot(2 ,1,1)\n",
    "a=sns.countplot(x= 'OverTime' ,data =df ,palette='husl')\n",
    "plt.title('JOB ROLE')\n",
    "plt.subplot(2,1,2)\n",
    "b=sns.countplot(x= 'OverTime' ,data = df ,palette='husl'  ,hue =df['Attrition'])\n",
    "for p in a.patches:\n",
    "    percentage = '{:.1f}%'.format(100 * p.get_height()/total)\n",
    "    x = p.get_x() + p.get_width()\n",
    "    y = p.get_height()\n",
    "    a.annotate(percentage, (x, y),ha='left')\n",
    "    #a.annotate(y,(x,y),ha='left')\n",
    "for p in b.patches:\n",
    "    percentage = '{:.1f}%'.format(100 * p.get_height()/total)\n",
    "    x = p.get_x() + p.get_width()\n",
    "    y = p.get_height()\n",
    "    #b.annotate(percentage, (x, y),ha='left')\n",
    "    b.annotate(y,(x,y),ha='left')\n",
    "plt.show()"
   ]
  },
  {
   "cell_type": "markdown",
   "id": "e5709d73",
   "metadata": {},
   "source": [
    "# effect of BusinessTravel on attrition"
   ]
  },
  {
   "cell_type": "code",
   "execution_count": null,
   "id": "77444cca",
   "metadata": {},
   "outputs": [],
   "source": [
    "df['BusinessTravel'].value_counts().plot(kind='pie',explode=[0.1,0.1,0.1],autopct='%1.1f%%',shadow=True,colors=['b','r','g'])\n",
    "print(df['BusinessTravel'].value_counts())"
   ]
  },
  {
   "cell_type": "code",
   "execution_count": null,
   "id": "41a6aaf1",
   "metadata": {},
   "outputs": [],
   "source": [
    "b=sns.countplot(x= 'BusinessTravel' ,data = df ,palette='hls'  ,hue =df['Attrition'])\n",
    "for p in b.patches:\n",
    "    percentage = '{:.1f}%'.format(100 * p.get_height()/total)\n",
    "    x = p.get_x() + p.get_width()\n",
    "    y = p.get_height()\n",
    "    b.annotate(percentage, (x, y),ha='right')\n",
    "    #b.annotate(y,(x,y),ha='left')\n",
    "plt.show()"
   ]
  },
  {
   "cell_type": "markdown",
   "id": "2284b83c",
   "metadata": {},
   "source": [
    "# effect of JobInvolvement on attrition "
   ]
  },
  {
   "cell_type": "code",
   "execution_count": null,
   "id": "cd95c2c2",
   "metadata": {},
   "outputs": [],
   "source": [
    "plt.figure(figsize=(10,7))\n",
    "plt.subplot(1,2,1)\n",
    "df['JobInvolvement'] = df['JobInvolvement'].replace([1,2,3,4],['Low','Meduim', 'High', 'Very High'])\n",
    "a=sns.histplot(x= 'JobInvolvement' ,data = df ,palette='coolwarm'  )\n",
    "\n",
    "plt.subplot(1,2,2)\n",
    "b=sns.countplot(x= 'JobInvolvement' ,data = df ,palette='coolwarm'  ,hue =df['Attrition'])\n",
    "for p in b.patches:\n",
    "    percentage = '{:.1f}%'.format(100 * p.get_height()/total)\n",
    "    x = p.get_x() + p.get_width()\n",
    "    y = p.get_height()\n",
    "    #b.annotate(percentage, (x, y),ha='right')\n",
    "    b.annotate(y,(x,y),ha='left')\n",
    "plt.show()"
   ]
  },
  {
   "cell_type": "markdown",
   "id": "f3392f58",
   "metadata": {},
   "source": [
    "# Effect of Work-Life Balance, Job Satisfaction, Relationship Satisfaction, Enviroment Satisfaction on attrition "
   ]
  },
  {
   "cell_type": "code",
   "execution_count": null,
   "id": "1b0d5684",
   "metadata": {},
   "outputs": [],
   "source": [
    "df_4=df[['WorkLifeBalance','JobSatisfaction','RelationshipSatisfaction','EnvironmentSatisfaction']]\n",
    "for i,col in enumerate(df_4.columns):\n",
    "    plt.figure(figsize = (10 , 10))\n",
    "    plt.subplot(2 ,2,i+1)\n",
    "    b=sns.countplot(x= col ,data = df ,palette='winter_r',hue =df['Attrition'])\n",
    "    for p in b.patches:\n",
    "        percentage = '{:.1f}%'.format(100 * p.get_height()/total)\n",
    "        x = p.get_x() + p.get_width()\n",
    "        y = p.get_height()\n",
    "        #b.annotate(percentage, (x, y),ha='right')\n",
    "        b.annotate(y,(x,y),ha='right')"
   ]
  },
  {
   "cell_type": "markdown",
   "id": "a1f1bfb1",
   "metadata": {},
   "source": [
    "# Effect of YearsWithCurrManager on attrition "
   ]
  },
  {
   "cell_type": "code",
   "execution_count": null,
   "id": "88def035",
   "metadata": {},
   "outputs": [],
   "source": [
    "df_left=df[df[ 'Attrition']==1]['YearsWithCurrManager'] \n",
    "df_stay=df[df[ 'Attrition']==0]['YearsWithCurrManager'] \n",
    "\n",
    "sns.kdeplot(df_left, label = 'Employee left', shade = True, color = 'r' )\n",
    "sns.kdeplot(df_stay, label = 'Employee stay', shade = True, color = 'g')\n",
    "plt.legend()\n",
    "plt.show()"
   ]
  },
  {
   "cell_type": "markdown",
   "id": "3c7ecfa6",
   "metadata": {},
   "source": [
    "# Effect of TotalWorkingYears, YearsInCurrentRole, YearsAtCompany, TrainingTimesLastYear on attrition "
   ]
  },
  {
   "cell_type": "code",
   "execution_count": null,
   "id": "cd8cdeaf",
   "metadata": {},
   "outputs": [],
   "source": [
    "plt.figure(figsize=(10,10))\n",
    "plt.subplot(2,2,1)\n",
    "sns.histplot(x= 'TotalWorkingYears' ,data =df ,palette='winter_r',hue='Attrition')\n",
    "plt.subplot(2,2,2)\n",
    "sns.histplot(x= 'YearsAtCompany' ,data =df ,palette='winter_r',hue='Attrition')\n",
    "plt.subplot(2,2,3)\n",
    "sns.histplot(x= 'YearsInCurrentRole' ,data =df ,palette='winter_r',hue='Attrition')\n",
    "plt.subplot(2,2,4)\n",
    "sns.histplot(x= 'TrainingTimesLastYear' ,data =df ,palette='winter_r',hue='Attrition')\n",
    "plt.show()"
   ]
  },
  {
   "cell_type": "code",
   "execution_count": null,
   "id": "0a72a88d",
   "metadata": {},
   "outputs": [],
   "source": [
    "fig, ax = plt.subplots(ncols=3, nrows=8, figsize=(15,50))\n",
    "index = 0\n",
    "ax = ax.flatten()\n",
    "for col, value in df[integer_datatypes].items():\n",
    "    sns.boxplot(y=col, data=df, ax=ax[index], palette=\"Reds\")\n",
    "    index += 1\n",
    "plt.show()"
   ]
  },
  {
   "cell_type": "code",
   "execution_count": null,
   "id": "d09aae0d",
   "metadata": {},
   "outputs": [],
   "source": [
    "fig, ax = plt.subplots(ncols=3, nrows=8, figsize=(15,50))\n",
    "index = 0\n",
    "ax = ax.flatten()\n",
    "for col, value in df[integer_datatypes].items():\n",
    "    sns.distplot(value, ax=ax[index], hist=False, color=\"g\", kde_kws={\"shade\": True})\n",
    "    index += 1\n",
    "plt.show()"
   ]
  },
  {
   "cell_type": "markdown",
   "id": "1d9dfc11",
   "metadata": {},
   "source": [
    "# Relations "
   ]
  },
  {
   "cell_type": "code",
   "execution_count": null,
   "id": "185e0dc0",
   "metadata": {},
   "outputs": [],
   "source": [
    "#relation between education and monthlyIncome ?\n",
    "plt.title('Education Vs MonthlyIncome')\n",
    "sns.boxplot(x=df['Education'],y=df['MonthlyIncome'])\n",
    "plt.show()"
   ]
  },
  {
   "cell_type": "code",
   "execution_count": null,
   "id": "4e114bda",
   "metadata": {},
   "outputs": [],
   "source": [
    "#relation between the MonthlyIncome and Gender ?\n",
    "plt.title('MonthlyIncome VS. Gender')\n",
    "sns.boxplot(x=df['Gender'],y=df['MonthlyIncome'])\n",
    "plt.show()"
   ]
  },
  {
   "cell_type": "code",
   "execution_count": null,
   "id": "5d0d3d3a",
   "metadata": {},
   "outputs": [],
   "source": [
    "#relation between the MonthlyIncome and JobRole ?\n",
    "plt.title('MonthlyIncome VS. JobRole')\n",
    "sns.boxplot(y=df['JobRole'],x=df['MonthlyIncome'])\n",
    "plt.show()"
   ]
  },
  {
   "cell_type": "code",
   "execution_count": null,
   "id": "a4148d30",
   "metadata": {},
   "outputs": [],
   "source": [
    " #relation between the MonthlyIncome and TotalWorkingYears ?\n",
    "plt.figure(figsize=(10,10))\n",
    "sns.boxplot(x=df['TotalWorkingYears'],y=df['MonthlyIncome'])\n",
    "plt.title('TotalWorkingYears VS. MonthlyIncome')\n",
    "plt.show()"
   ]
  },
  {
   "cell_type": "code",
   "execution_count": null,
   "id": "2ff070f2",
   "metadata": {},
   "outputs": [],
   "source": [
    "# relation between YearsInCurrentRole and MonthlyIncome ?\n",
    "plt.figure(figsize=(10,12))\n",
    "sns.boxplot(x=df['YearsInCurrentRole'],y=df['MonthlyIncome'])\n",
    "plt.title('YearsInCurrentRole VS. MonthlyIncome')\n",
    "plt.show()"
   ]
  },
  {
   "cell_type": "code",
   "execution_count": null,
   "id": "0daee2a2",
   "metadata": {},
   "outputs": [],
   "source": [
    "#relation between MaritalStatus and MonthlyIncome ?\n",
    "sns.boxplot(x=df['MaritalStatus'],y=df['MonthlyIncome'],hue=df['Attrition'])\n",
    "plt.show()"
   ]
  },
  {
   "cell_type": "code",
   "execution_count": null,
   "id": "6d149037",
   "metadata": {},
   "outputs": [],
   "source": [
    "# relation between Age and JobInvolvement ?\n",
    "plt.figure(figsize=(10,10))\n",
    "sns.boxplot(x=df['Age'],y=df['JobInvolvement'],hue=df['Attrition'],palette='winter_r')\n",
    "plt.show()"
   ]
  },
  {
   "cell_type": "code",
   "execution_count": null,
   "id": "c363acdc",
   "metadata": {},
   "outputs": [],
   "source": [
    "#relation between MaritalStatus and DistanceFromHome ?\n",
    "plt.figure(figsize=(10,10))\n",
    "sns.boxplot(x=df['MaritalStatus'],y=df['DistanceFromHome'],hue=df['Attrition'],palette='husl')\n",
    "plt.show()"
   ]
  },
  {
   "cell_type": "code",
   "execution_count": null,
   "id": "e2449547",
   "metadata": {},
   "outputs": [],
   "source": [
    " #relation between Work-Life Balance & Distance From Home ?\n",
    "plt.figure(figsize=(10,10))\n",
    "sns.boxplot(x=df['DistanceFromHome'],y=df['WorkLifeBalance'],hue=df['Attrition'],palette='winter_r')\n",
    "plt.show()"
   ]
  },
  {
   "cell_type": "markdown",
   "id": "7c46669c",
   "metadata": {},
   "source": [
    "# Encoding the categorical object datatype columns"
   ]
  },
  {
   "cell_type": "code",
   "execution_count": null,
   "id": "d04233ec",
   "metadata": {},
   "outputs": [],
   "source": [
    "from sklearn.preprocessing import LabelEncoder\n",
    "labelencoder=LabelEncoder()"
   ]
  },
  {
   "cell_type": "code",
   "execution_count": null,
   "id": "16035f98",
   "metadata": {},
   "outputs": [],
   "source": [
    "df['Attrition']=labelencoder.fit_transform(df['Attrition'])\n",
    "df['Attrition']"
   ]
  },
  {
   "cell_type": "code",
   "execution_count": null,
   "id": "6e7190a4",
   "metadata": {},
   "outputs": [],
   "source": [
    "df.iloc[:,0]=labelencoder.fit_transform(df.iloc[:,0].values)\n",
    "df.iloc[:,3]=labelencoder.fit_transform(df.iloc[:,3].values)\n",
    "df.iloc[:,6]=labelencoder.fit_transform(df.iloc[:,6].values)\n",
    "df.iloc[:,8]=labelencoder.fit_transform(df.iloc[:,8].values)\n",
    "df.iloc[:,10]=labelencoder.fit_transform(df.iloc[:,10].values)\n",
    "df.iloc[:,12]=labelencoder.fit_transform(df.iloc[:,12].values)\n",
    "df.iloc[:,14]=labelencoder.fit_transform(df.iloc[:,14].values)\n",
    "df.iloc[:,18]=labelencoder.fit_transform(df.iloc[:,18].values)"
   ]
  },
  {
   "cell_type": "code",
   "execution_count": null,
   "id": "5205ae0e",
   "metadata": {},
   "outputs": [],
   "source": [
    "print(df['Attrition'].unique())\n",
    "print(df['OverTime'].unique())\n",
    "print(df['Department'].unique())\n",
    "print(df['BusinessTravel'].unique())\n",
    "print(df['EducationField'].unique())\n",
    "print(df['Gender'].unique())\n",
    "print(df['JobRole'].unique())\n",
    "print(df['MaritalStatus'].unique())"
   ]
  },
  {
   "cell_type": "markdown",
   "id": "d1b767a8",
   "metadata": {},
   "source": [
    "# Correlation using a Heatmap"
   ]
  },
  {
   "cell_type": "code",
   "execution_count": null,
   "id": "a12cae6b",
   "metadata": {},
   "outputs": [],
   "source": [
    "upper_triangle = np.triu(df.corr())\n",
    "plt.figure(figsize=(26,18))\n",
    "sns.heatmap(df.corr(), vmin=-1, vmax=1, annot=True, square=True, fmt='0.3f', \n",
    "            annot_kws={'size':10}, cmap=\"cubehelix_r\", mask=upper_triangle)\n",
    "plt.xticks(fontsize=14)\n",
    "plt.yticks(fontsize=14)\n",
    "plt.show()"
   ]
  },
  {
   "cell_type": "code",
   "execution_count": null,
   "id": "70f23959",
   "metadata": {},
   "outputs": [],
   "source": [
    "#Correlation Bar Plot comparing features with our labeldf_corr = df.corr()\n",
    "plt.figure(figsize=(15,5))\n",
    "df_corr['Attrition'].sort_values(ascending=False).drop('Attrition').plot.bar()\n",
    "plt.title(\"Correlation of Features vs Label\\n\", fontsize=16)\n",
    "plt.xlabel(\"\\nFeatures List\", fontsize=14)\n",
    "plt.ylabel(\"Correlation Value\", fontsize=12)\n",
    "plt.show()"
   ]
  },
  {
   "cell_type": "markdown",
   "id": "4ad3f00d",
   "metadata": {},
   "source": [
    "# Outlier Analysis & Filtering "
   ]
  },
  {
   "cell_type": "code",
   "execution_count": null,
   "id": "4b180a12",
   "metadata": {},
   "outputs": [],
   "source": [
    "def Winsorization_outliers(df):\n",
    "    q1 = np.percentile(df , 1)\n",
    "    q3 = np.percentile(df , 99)\n",
    "    out=[]\n",
    "    for i in df:\n",
    "        if (i > q3 or i < q1) and i>0:\n",
    "            out.append(i)\n",
    "    print(\"Outliers:\",out)\n",
    "    return out;\n",
    "def remove_outliers(df):\n",
    "    print(\"Registers in the initial dataset:\",df.shape[0])\n",
    "    for col in df.columns[1:]:\n",
    "        if df[col].dtype != 'object':\n",
    "            print(col)\n",
    "            data_filter = Winsorization_outliers(df[col])\n",
    "            df = df[~df[col].isin(data_filter)]\n",
    "            print(\"Registers without outliers in \"+col+\" :\"+ str(df.shape[0]))\n",
    "    return df;\n",
    "\n",
    "df_Cleaned = remove_outliers(df)"
   ]
  },
  {
   "cell_type": "markdown",
   "id": "8fb3b1b3",
   "metadata": {},
   "source": [
    "# Feature Engineering"
   ]
  },
  {
   "cell_type": "code",
   "execution_count": null,
   "id": "d74422e0",
   "metadata": {},
   "outputs": [],
   "source": [
    "df_Cleaned['Attrition'] = df_Cleaned['Attrition'].apply(lambda x: 0 if x == 'No' else 1)"
   ]
  },
  {
   "cell_type": "code",
   "execution_count": null,
   "id": "25bbec5b",
   "metadata": {},
   "outputs": [],
   "source": [
    "le = LabelEncoder()\n",
    "# Label Encoding will be used for columns with 2 or less unique values\n",
    "le_count = 0\n",
    "for col in df_Cleaned.columns[1:]:\n",
    "    if df_Cleaned[col].dtype == 'object':\n",
    "        if len(list(df_Cleaned[col].unique())) <= 2:\n",
    "            le.fit(df_Cleaned[col])\n",
    "            df_Cleaned[col] = le.transform(df_Cleaned[col])\n",
    "            le_count += 1\n",
    "print('{} columns were label encoded.'.format(le_count))\n",
    "\n",
    "# convert rest of categorical variable into dummy\n",
    "df_Cleaned = pd.get_dummies(df_Cleaned, drop_first=True)"
   ]
  },
  {
   "cell_type": "code",
   "execution_count": null,
   "id": "e22a58e5",
   "metadata": {},
   "outputs": [],
   "source": [
    "fig, ax = plt.subplots(ncols=3, nrows=8, figsize=(15,50))\n",
    "index = 0\n",
    "ax = ax.flatten()\n",
    "for col, value in df[integer_datatypes].items():\n",
    "    sns.boxplot(y=col, data=df, ax=ax[index], palette=\"prism\")\n",
    "    index += 1\n",
    "plt.show()"
   ]
  },
  {
   "cell_type": "code",
   "execution_count": null,
   "id": "efe5be39",
   "metadata": {},
   "outputs": [],
   "source": [
    "df.skew()"
   ]
  },
  {
   "cell_type": "markdown",
   "id": "e7844637",
   "metadata": {},
   "source": [
    "# Using Log Transform to fix skewness"
   ]
  },
  {
   "cell_type": "code",
   "execution_count": null,
   "id": "a108c033",
   "metadata": {},
   "outputs": [],
   "source": [
    "for col in integer_datatypes:                       #applied log ransformation on numerical data\n",
    "    if df.skew().loc[col]>0.55:\n",
    "        df[col]=np.log1p(df[col])"
   ]
  },
  {
   "cell_type": "code",
   "execution_count": null,
   "id": "eba4100b",
   "metadata": {},
   "outputs": [],
   "source": [
    "fig, ax = plt.subplots(ncols=3, nrows=8, figsize=(15,50))\n",
    "index = 0\n",
    "ax = ax.flatten()\n",
    "for col, value in df[integer_datatypes].items():\n",
    "    sns.distplot(value, ax=ax[index], hist=False, color=\"r\", kde_kws={\"shade\": True})\n",
    "    index += 1\n",
    "plt.show()"
   ]
  },
  {
   "cell_type": "code",
   "execution_count": 204,
   "id": "f2285206",
   "metadata": {},
   "outputs": [
    {
     "ename": "NameError",
     "evalue": "name 'PCA' is not defined",
     "output_type": "error",
     "traceback": [
      "\u001b[1;31m---------------------------------------------------------------------------\u001b[0m",
      "\u001b[1;31mNameError\u001b[0m                                 Traceback (most recent call last)",
      "\u001b[1;32mC:\\Users\\MOHITL~1\\AppData\\Local\\Temp/ipykernel_5488/2821673056.py\u001b[0m in \u001b[0;36m<module>\u001b[1;34m\u001b[0m\n\u001b[0;32m      2\u001b[0m \u001b[0mn\u001b[0m\u001b[1;33m=\u001b[0m\u001b[1;36m2\u001b[0m\u001b[1;33m\u001b[0m\u001b[1;33m\u001b[0m\u001b[0m\n\u001b[0;32m      3\u001b[0m \u001b[0mtraining_data\u001b[0m \u001b[1;33m=\u001b[0m \u001b[0mdf_Cleaned\u001b[0m\u001b[1;33m.\u001b[0m\u001b[0mcopy\u001b[0m\u001b[1;33m(\u001b[0m\u001b[1;33m)\u001b[0m\u001b[1;33m\u001b[0m\u001b[1;33m\u001b[0m\u001b[0m\n\u001b[1;32m----> 4\u001b[1;33m \u001b[0mpca\u001b[0m \u001b[1;33m=\u001b[0m \u001b[0mPCA\u001b[0m\u001b[1;33m(\u001b[0m\u001b[0mn_components\u001b[0m\u001b[1;33m=\u001b[0m\u001b[0mn\u001b[0m\u001b[1;33m,\u001b[0m \u001b[0msvd_solver\u001b[0m\u001b[1;33m=\u001b[0m \u001b[1;34m'full'\u001b[0m\u001b[1;33m)\u001b[0m\u001b[1;33m\u001b[0m\u001b[1;33m\u001b[0m\u001b[0m\n\u001b[0m\u001b[0;32m      5\u001b[0m \u001b[0mX_train_PCA\u001b[0m \u001b[1;33m=\u001b[0m \u001b[0mpca\u001b[0m\u001b[1;33m.\u001b[0m\u001b[0mfit_transform\u001b[0m\u001b[1;33m(\u001b[0m\u001b[0mtraining_data\u001b[0m\u001b[1;33m)\u001b[0m\u001b[1;33m\u001b[0m\u001b[1;33m\u001b[0m\u001b[0m\n\u001b[0;32m      6\u001b[0m \u001b[0mX_train_PCA\u001b[0m \u001b[1;33m=\u001b[0m \u001b[0mpd\u001b[0m\u001b[1;33m.\u001b[0m\u001b[0mDataFrame\u001b[0m\u001b[1;33m(\u001b[0m\u001b[0mX_train_PCA\u001b[0m\u001b[1;33m)\u001b[0m\u001b[1;33m\u001b[0m\u001b[1;33m\u001b[0m\u001b[0m\n",
      "\u001b[1;31mNameError\u001b[0m: name 'PCA' is not defined"
     ]
    }
   ],
   "source": [
    "# Reducing in 2 components your data with Principal Component Analysis to filter outliers through Mahalanobis Distance.\n",
    "n=2\n",
    "training_data = df_Cleaned.copy()\n",
    "pca = PCA(n_components=n, svd_solver= 'full')\n",
    "X_train_PCA = pca.fit_transform(training_data)\n",
    "X_train_PCA = pd.DataFrame(X_train_PCA)\n",
    "X_train_PCA.index = training_data.index\n",
    "X_train_PCA.head()\n",
    "\n",
    "\n",
    "plt.figure(figsize=(15,6))\n",
    "sns.scatterplot(x=X_train_PCA[0],data=X_train_PCA,y=X_train_PCA[1])\n",
    "plt.title('PCA Plot with {} variables'.format(pca.n_components_))\n",
    "plt.show()\n",
    "\n",
    "#PCA Explained Variance Ratio & Components\n",
    "print ( \"Components = \", pca.n_components_ , \";\\nTotal explained variance = \",\n",
    "      round(pca.explained_variance_ratio_.sum(),5)  )"
   ]
  },
  {
   "cell_type": "code",
   "execution_count": null,
   "id": "e2ae61d1",
   "metadata": {},
   "outputs": [],
   "source": [
    "X = df.drop('Attrition', axis=1)\n",
    "Y = df['Attrition']"
   ]
  },
  {
   "cell_type": "code",
   "execution_count": null,
   "id": "d3b7b403",
   "metadata": {},
   "outputs": [],
   "source": [
    "#Resolving the class imbalance issue in label column¶\n",
    "Y.value_counts()"
   ]
  },
  {
   "cell_type": "code",
   "execution_count": null,
   "id": "444f2c1a",
   "metadata": {},
   "outputs": [],
   "source": [
    "# adding samples to make all the categorical quality values same\n",
    "\n",
    "!pip install -U imbalanced-learn\n",
    "from imblearn.oversampling import SMOTETomek\n",
    "smt = SMOTE(random_state=42)\n",
    "oversample = SMOTE()\n",
    "X, Y = oversample.fit_resample(X, Y)"
   ]
  },
  {
   "cell_type": "markdown",
   "id": "8f569ed1",
   "metadata": {},
   "source": [
    "# Feature Scaling"
   ]
  },
  {
   "cell_type": "code",
   "execution_count": null,
   "id": "1b05a081",
   "metadata": {},
   "outputs": [],
   "source": [
    "scaler = StandardScaler()\n",
    "X = pd.DataFrame(scaler.fit_transform(X), columns=X.columns)\n",
    "X.head()"
   ]
  },
  {
   "cell_type": "code",
   "execution_count": null,
   "id": "3b8837b0",
   "metadata": {},
   "outputs": [],
   "source": []
  }
 ],
 "metadata": {
  "kernelspec": {
   "display_name": "Python 3 (ipykernel)",
   "language": "python",
   "name": "python3"
  },
  "language_info": {
   "codemirror_mode": {
    "name": "ipython",
    "version": 3
   },
   "file_extension": ".py",
   "mimetype": "text/x-python",
   "name": "python",
   "nbconvert_exporter": "python",
   "pygments_lexer": "ipython3",
   "version": "3.9.7"
  }
 },
 "nbformat": 4,
 "nbformat_minor": 5
}
